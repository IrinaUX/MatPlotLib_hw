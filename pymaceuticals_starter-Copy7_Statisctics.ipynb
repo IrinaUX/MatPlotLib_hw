{
 "cells": [
  {
   "cell_type": "markdown",
   "metadata": {},
   "source": [
    "## Observations and Insights "
   ]
  },
  {
   "cell_type": "markdown",
   "metadata": {},
   "source": []
  },
  {
   "cell_type": "markdown",
   "metadata": {},
   "source": [
    "#### The top 4 most promising drug regimens from bar charts of Average Tumor Volume grouped by Drug Regimen are:\n",
    "Capomulin, Ramicane, Infubinol and Ceftamin"
   ]
  },
  {
   "cell_type": "markdown",
   "metadata": {},
   "source": [
    "#### There are 2 drug regimens with at least one outlier, among the top 4 most promising drugs identified:      \n",
    "Capomulin and Ramicane\n",
    "#### Note: the outliers are below the lower quartile range, meaning the tumor volume is even lower than 50% of the data."
   ]
  },
  {
   "cell_type": "markdown",
   "metadata": {},
   "source": [
    "#### Moderate positive correlation is observed between Mouse Weight and the Average Tumor Volume:\n",
    "0.53"
   ]
  },
  {
   "cell_type": "code",
   "execution_count": 1,
   "metadata": {},
   "outputs": [],
   "source": [
    "# Dependencies and Setup\n",
    "import matplotlib.pyplot as plt\n",
    "import pandas as pd\n",
    "import scipy.stats as sts\n",
    "import numpy as np\n",
    "import os\n",
    "\n",
    "# filter for warnings:\n",
    "import warnings\n",
    "warnings.filterwarnings('ignore')\n",
    "\n",
    "# Study data files\n",
    "mouse_metadata_path = \"data/Mouse_metadata.csv\"\n",
    "study_results_path = \"data/Study_results.csv\"\n",
    "\n",
    "# Read the mouse data and the study results\n",
    "mouse_metadata = pd.read_csv(mouse_metadata_path)\n",
    "study_results = pd.read_csv(study_results_path)"
   ]
  },
  {
   "cell_type": "code",
   "execution_count": 2,
   "metadata": {
    "scrolled": true
   },
   "outputs": [
    {
     "data": {
      "text/html": [
       "<div>\n",
       "<style scoped>\n",
       "    .dataframe tbody tr th:only-of-type {\n",
       "        vertical-align: middle;\n",
       "    }\n",
       "\n",
       "    .dataframe tbody tr th {\n",
       "        vertical-align: top;\n",
       "    }\n",
       "\n",
       "    .dataframe thead th {\n",
       "        text-align: right;\n",
       "    }\n",
       "</style>\n",
       "<table border=\"1\" class=\"dataframe\">\n",
       "  <thead>\n",
       "    <tr style=\"text-align: right;\">\n",
       "      <th></th>\n",
       "      <th>Mouse ID</th>\n",
       "      <th>Timepoint</th>\n",
       "      <th>Tumor Volume (mm3)</th>\n",
       "      <th>Metastatic Sites</th>\n",
       "      <th>Drug Regimen</th>\n",
       "      <th>Sex</th>\n",
       "      <th>Age_months</th>\n",
       "      <th>Weight (g)</th>\n",
       "    </tr>\n",
       "  </thead>\n",
       "  <tbody>\n",
       "    <tr>\n",
       "      <th>0</th>\n",
       "      <td>b128</td>\n",
       "      <td>0</td>\n",
       "      <td>45.0</td>\n",
       "      <td>0</td>\n",
       "      <td>Capomulin</td>\n",
       "      <td>Female</td>\n",
       "      <td>9</td>\n",
       "      <td>22</td>\n",
       "    </tr>\n",
       "    <tr>\n",
       "      <th>1</th>\n",
       "      <td>f932</td>\n",
       "      <td>0</td>\n",
       "      <td>45.0</td>\n",
       "      <td>0</td>\n",
       "      <td>Ketapril</td>\n",
       "      <td>Male</td>\n",
       "      <td>15</td>\n",
       "      <td>29</td>\n",
       "    </tr>\n",
       "    <tr>\n",
       "      <th>2</th>\n",
       "      <td>g107</td>\n",
       "      <td>0</td>\n",
       "      <td>45.0</td>\n",
       "      <td>0</td>\n",
       "      <td>Ketapril</td>\n",
       "      <td>Female</td>\n",
       "      <td>2</td>\n",
       "      <td>29</td>\n",
       "    </tr>\n",
       "    <tr>\n",
       "      <th>3</th>\n",
       "      <td>a457</td>\n",
       "      <td>0</td>\n",
       "      <td>45.0</td>\n",
       "      <td>0</td>\n",
       "      <td>Ketapril</td>\n",
       "      <td>Female</td>\n",
       "      <td>11</td>\n",
       "      <td>30</td>\n",
       "    </tr>\n",
       "    <tr>\n",
       "      <th>4</th>\n",
       "      <td>c819</td>\n",
       "      <td>0</td>\n",
       "      <td>45.0</td>\n",
       "      <td>0</td>\n",
       "      <td>Ketapril</td>\n",
       "      <td>Male</td>\n",
       "      <td>21</td>\n",
       "      <td>25</td>\n",
       "    </tr>\n",
       "  </tbody>\n",
       "</table>\n",
       "</div>"
      ],
      "text/plain": [
       "  Mouse ID  Timepoint  Tumor Volume (mm3)  Metastatic Sites Drug Regimen  \\\n",
       "0     b128          0                45.0                 0    Capomulin   \n",
       "1     f932          0                45.0                 0     Ketapril   \n",
       "2     g107          0                45.0                 0     Ketapril   \n",
       "3     a457          0                45.0                 0     Ketapril   \n",
       "4     c819          0                45.0                 0     Ketapril   \n",
       "\n",
       "      Sex  Age_months  Weight (g)  \n",
       "0  Female           9          22  \n",
       "1    Male          15          29  \n",
       "2  Female           2          29  \n",
       "3  Female          11          30  \n",
       "4    Male          21          25  "
      ]
     },
     "execution_count": 2,
     "metadata": {},
     "output_type": "execute_result"
    }
   ],
   "source": [
    "# Combine the data into a single dataset on Mouse ID column\n",
    "merged_df = pd.merge(study_results, mouse_metadata, how='left', on='Mouse ID')\n",
    "merged_df.head()"
   ]
  },
  {
   "cell_type": "code",
   "execution_count": 3,
   "metadata": {
    "scrolled": true
   },
   "outputs": [
    {
     "data": {
      "text/plain": [
       "249"
      ]
     },
     "execution_count": 3,
     "metadata": {},
     "output_type": "execute_result"
    }
   ],
   "source": [
    "# Checking the number of mice in the DataFrame.\n",
    "len(merged_df['Mouse ID'].unique())"
   ]
  },
  {
   "cell_type": "code",
   "execution_count": 4,
   "metadata": {},
   "outputs": [
    {
     "data": {
      "text/plain": [
       "array(['g989'], dtype=object)"
      ]
     },
     "execution_count": 4,
     "metadata": {},
     "output_type": "execute_result"
    }
   ],
   "source": [
    "# Getting the duplicate mice by ID number that shows up for Mouse ID and Timepoint. \n",
    "duplicated_mouse_df = merged_df.loc[merged_df.duplicated(subset=[\"Mouse ID\",\"Timepoint\"]), \"Mouse ID\"].unique()\n",
    "duplicated_mouse_df"
   ]
  },
  {
   "cell_type": "code",
   "execution_count": 5,
   "metadata": {},
   "outputs": [
    {
     "data": {
      "text/html": [
       "<div>\n",
       "<style scoped>\n",
       "    .dataframe tbody tr th:only-of-type {\n",
       "        vertical-align: middle;\n",
       "    }\n",
       "\n",
       "    .dataframe tbody tr th {\n",
       "        vertical-align: top;\n",
       "    }\n",
       "\n",
       "    .dataframe thead th {\n",
       "        text-align: right;\n",
       "    }\n",
       "</style>\n",
       "<table border=\"1\" class=\"dataframe\">\n",
       "  <thead>\n",
       "    <tr style=\"text-align: right;\">\n",
       "      <th></th>\n",
       "      <th>Mouse ID</th>\n",
       "      <th>Timepoint</th>\n",
       "      <th>Tumor Volume (mm3)</th>\n",
       "      <th>Metastatic Sites</th>\n",
       "      <th>Drug Regimen</th>\n",
       "      <th>Sex</th>\n",
       "      <th>Age_months</th>\n",
       "      <th>Weight (g)</th>\n",
       "    </tr>\n",
       "  </thead>\n",
       "  <tbody>\n",
       "    <tr>\n",
       "      <th>107</th>\n",
       "      <td>g989</td>\n",
       "      <td>0</td>\n",
       "      <td>45.000000</td>\n",
       "      <td>0</td>\n",
       "      <td>Propriva</td>\n",
       "      <td>Female</td>\n",
       "      <td>21</td>\n",
       "      <td>26</td>\n",
       "    </tr>\n",
       "    <tr>\n",
       "      <th>137</th>\n",
       "      <td>g989</td>\n",
       "      <td>0</td>\n",
       "      <td>45.000000</td>\n",
       "      <td>0</td>\n",
       "      <td>Propriva</td>\n",
       "      <td>Female</td>\n",
       "      <td>21</td>\n",
       "      <td>26</td>\n",
       "    </tr>\n",
       "    <tr>\n",
       "      <th>329</th>\n",
       "      <td>g989</td>\n",
       "      <td>5</td>\n",
       "      <td>48.786801</td>\n",
       "      <td>0</td>\n",
       "      <td>Propriva</td>\n",
       "      <td>Female</td>\n",
       "      <td>21</td>\n",
       "      <td>26</td>\n",
       "    </tr>\n",
       "    <tr>\n",
       "      <th>360</th>\n",
       "      <td>g989</td>\n",
       "      <td>5</td>\n",
       "      <td>47.570392</td>\n",
       "      <td>0</td>\n",
       "      <td>Propriva</td>\n",
       "      <td>Female</td>\n",
       "      <td>21</td>\n",
       "      <td>26</td>\n",
       "    </tr>\n",
       "    <tr>\n",
       "      <th>620</th>\n",
       "      <td>g989</td>\n",
       "      <td>10</td>\n",
       "      <td>51.745156</td>\n",
       "      <td>0</td>\n",
       "      <td>Propriva</td>\n",
       "      <td>Female</td>\n",
       "      <td>21</td>\n",
       "      <td>26</td>\n",
       "    </tr>\n",
       "    <tr>\n",
       "      <th>681</th>\n",
       "      <td>g989</td>\n",
       "      <td>10</td>\n",
       "      <td>49.880528</td>\n",
       "      <td>0</td>\n",
       "      <td>Propriva</td>\n",
       "      <td>Female</td>\n",
       "      <td>21</td>\n",
       "      <td>26</td>\n",
       "    </tr>\n",
       "    <tr>\n",
       "      <th>815</th>\n",
       "      <td>g989</td>\n",
       "      <td>15</td>\n",
       "      <td>51.325852</td>\n",
       "      <td>1</td>\n",
       "      <td>Propriva</td>\n",
       "      <td>Female</td>\n",
       "      <td>21</td>\n",
       "      <td>26</td>\n",
       "    </tr>\n",
       "    <tr>\n",
       "      <th>869</th>\n",
       "      <td>g989</td>\n",
       "      <td>15</td>\n",
       "      <td>53.442020</td>\n",
       "      <td>0</td>\n",
       "      <td>Propriva</td>\n",
       "      <td>Female</td>\n",
       "      <td>21</td>\n",
       "      <td>26</td>\n",
       "    </tr>\n",
       "    <tr>\n",
       "      <th>950</th>\n",
       "      <td>g989</td>\n",
       "      <td>20</td>\n",
       "      <td>55.326122</td>\n",
       "      <td>1</td>\n",
       "      <td>Propriva</td>\n",
       "      <td>Female</td>\n",
       "      <td>21</td>\n",
       "      <td>26</td>\n",
       "    </tr>\n",
       "    <tr>\n",
       "      <th>1111</th>\n",
       "      <td>g989</td>\n",
       "      <td>20</td>\n",
       "      <td>54.657650</td>\n",
       "      <td>1</td>\n",
       "      <td>Propriva</td>\n",
       "      <td>Female</td>\n",
       "      <td>21</td>\n",
       "      <td>26</td>\n",
       "    </tr>\n",
       "    <tr>\n",
       "      <th>1195</th>\n",
       "      <td>g989</td>\n",
       "      <td>25</td>\n",
       "      <td>56.045564</td>\n",
       "      <td>1</td>\n",
       "      <td>Propriva</td>\n",
       "      <td>Female</td>\n",
       "      <td>21</td>\n",
       "      <td>26</td>\n",
       "    </tr>\n",
       "    <tr>\n",
       "      <th>1380</th>\n",
       "      <td>g989</td>\n",
       "      <td>30</td>\n",
       "      <td>59.082294</td>\n",
       "      <td>1</td>\n",
       "      <td>Propriva</td>\n",
       "      <td>Female</td>\n",
       "      <td>21</td>\n",
       "      <td>26</td>\n",
       "    </tr>\n",
       "    <tr>\n",
       "      <th>1592</th>\n",
       "      <td>g989</td>\n",
       "      <td>35</td>\n",
       "      <td>62.570880</td>\n",
       "      <td>2</td>\n",
       "      <td>Propriva</td>\n",
       "      <td>Female</td>\n",
       "      <td>21</td>\n",
       "      <td>26</td>\n",
       "    </tr>\n",
       "  </tbody>\n",
       "</table>\n",
       "</div>"
      ],
      "text/plain": [
       "     Mouse ID  Timepoint  Tumor Volume (mm3)  Metastatic Sites Drug Regimen  \\\n",
       "107      g989          0           45.000000                 0     Propriva   \n",
       "137      g989          0           45.000000                 0     Propriva   \n",
       "329      g989          5           48.786801                 0     Propriva   \n",
       "360      g989          5           47.570392                 0     Propriva   \n",
       "620      g989         10           51.745156                 0     Propriva   \n",
       "681      g989         10           49.880528                 0     Propriva   \n",
       "815      g989         15           51.325852                 1     Propriva   \n",
       "869      g989         15           53.442020                 0     Propriva   \n",
       "950      g989         20           55.326122                 1     Propriva   \n",
       "1111     g989         20           54.657650                 1     Propriva   \n",
       "1195     g989         25           56.045564                 1     Propriva   \n",
       "1380     g989         30           59.082294                 1     Propriva   \n",
       "1592     g989         35           62.570880                 2     Propriva   \n",
       "\n",
       "         Sex  Age_months  Weight (g)  \n",
       "107   Female          21          26  \n",
       "137   Female          21          26  \n",
       "329   Female          21          26  \n",
       "360   Female          21          26  \n",
       "620   Female          21          26  \n",
       "681   Female          21          26  \n",
       "815   Female          21          26  \n",
       "869   Female          21          26  \n",
       "950   Female          21          26  \n",
       "1111  Female          21          26  \n",
       "1195  Female          21          26  \n",
       "1380  Female          21          26  \n",
       "1592  Female          21          26  "
      ]
     },
     "execution_count": 5,
     "metadata": {},
     "output_type": "execute_result"
    }
   ],
   "source": [
    "# Optional: Get all the data for the duplicate mouse ID. \n",
    "duplicated_mouse = merged_df.loc[merged_df[\"Mouse ID\"] == \"g989\"]\n",
    "duplicated_mouse"
   ]
  },
  {
   "cell_type": "code",
   "execution_count": 6,
   "metadata": {},
   "outputs": [
    {
     "data": {
      "text/html": [
       "<div>\n",
       "<style scoped>\n",
       "    .dataframe tbody tr th:only-of-type {\n",
       "        vertical-align: middle;\n",
       "    }\n",
       "\n",
       "    .dataframe tbody tr th {\n",
       "        vertical-align: top;\n",
       "    }\n",
       "\n",
       "    .dataframe thead th {\n",
       "        text-align: right;\n",
       "    }\n",
       "</style>\n",
       "<table border=\"1\" class=\"dataframe\">\n",
       "  <thead>\n",
       "    <tr style=\"text-align: right;\">\n",
       "      <th></th>\n",
       "      <th>Mouse ID</th>\n",
       "      <th>Timepoint</th>\n",
       "      <th>Tumor Volume (mm3)</th>\n",
       "      <th>Metastatic Sites</th>\n",
       "      <th>Drug Regimen</th>\n",
       "      <th>Sex</th>\n",
       "      <th>Age_months</th>\n",
       "      <th>Weight (g)</th>\n",
       "    </tr>\n",
       "  </thead>\n",
       "  <tbody>\n",
       "    <tr>\n",
       "      <th>0</th>\n",
       "      <td>b128</td>\n",
       "      <td>0</td>\n",
       "      <td>45.0</td>\n",
       "      <td>0</td>\n",
       "      <td>Capomulin</td>\n",
       "      <td>Female</td>\n",
       "      <td>9</td>\n",
       "      <td>22</td>\n",
       "    </tr>\n",
       "    <tr>\n",
       "      <th>1</th>\n",
       "      <td>f932</td>\n",
       "      <td>0</td>\n",
       "      <td>45.0</td>\n",
       "      <td>0</td>\n",
       "      <td>Ketapril</td>\n",
       "      <td>Male</td>\n",
       "      <td>15</td>\n",
       "      <td>29</td>\n",
       "    </tr>\n",
       "    <tr>\n",
       "      <th>2</th>\n",
       "      <td>g107</td>\n",
       "      <td>0</td>\n",
       "      <td>45.0</td>\n",
       "      <td>0</td>\n",
       "      <td>Ketapril</td>\n",
       "      <td>Female</td>\n",
       "      <td>2</td>\n",
       "      <td>29</td>\n",
       "    </tr>\n",
       "    <tr>\n",
       "      <th>3</th>\n",
       "      <td>a457</td>\n",
       "      <td>0</td>\n",
       "      <td>45.0</td>\n",
       "      <td>0</td>\n",
       "      <td>Ketapril</td>\n",
       "      <td>Female</td>\n",
       "      <td>11</td>\n",
       "      <td>30</td>\n",
       "    </tr>\n",
       "    <tr>\n",
       "      <th>4</th>\n",
       "      <td>c819</td>\n",
       "      <td>0</td>\n",
       "      <td>45.0</td>\n",
       "      <td>0</td>\n",
       "      <td>Ketapril</td>\n",
       "      <td>Male</td>\n",
       "      <td>21</td>\n",
       "      <td>25</td>\n",
       "    </tr>\n",
       "  </tbody>\n",
       "</table>\n",
       "</div>"
      ],
      "text/plain": [
       "  Mouse ID  Timepoint  Tumor Volume (mm3)  Metastatic Sites Drug Regimen  \\\n",
       "0     b128          0                45.0                 0    Capomulin   \n",
       "1     f932          0                45.0                 0     Ketapril   \n",
       "2     g107          0                45.0                 0     Ketapril   \n",
       "3     a457          0                45.0                 0     Ketapril   \n",
       "4     c819          0                45.0                 0     Ketapril   \n",
       "\n",
       "      Sex  Age_months  Weight (g)  \n",
       "0  Female           9          22  \n",
       "1    Male          15          29  \n",
       "2  Female           2          29  \n",
       "3  Female          11          30  \n",
       "4    Male          21          25  "
      ]
     },
     "execution_count": 6,
     "metadata": {},
     "output_type": "execute_result"
    }
   ],
   "source": [
    "# Create a clean DataFrame by dropping the duplicate mouse by its ID.\n",
    "clean_df = merged_df[merged_df[\"Mouse ID\"].isin(duplicated_mouse_df) == False]\n",
    "clean_df.head()"
   ]
  },
  {
   "cell_type": "code",
   "execution_count": 7,
   "metadata": {},
   "outputs": [
    {
     "data": {
      "text/plain": [
       "248"
      ]
     },
     "execution_count": 7,
     "metadata": {},
     "output_type": "execute_result"
    }
   ],
   "source": [
    "# Checking the number of mice in the clean DataFrame.\n",
    "len(clean_df[\"Mouse ID\"].unique())"
   ]
  },
  {
   "cell_type": "markdown",
   "metadata": {},
   "source": [
    "## Summary Statistics"
   ]
  },
  {
   "cell_type": "code",
   "execution_count": 8,
   "metadata": {},
   "outputs": [],
   "source": [
    "# Generate a summary statistics table of mean, median, \n",
    "    #variance, standard deviation, and SEM \n",
    "    #of the tumor volume for each regimen\n",
    "\n",
    "# This method is the most straightforward, \n",
    "    #creating multiple series and putting them all together at the end."
   ]
  },
  {
   "cell_type": "code",
   "execution_count": 9,
   "metadata": {
    "scrolled": true
   },
   "outputs": [
    {
     "data": {
      "text/html": [
       "<div>\n",
       "<style scoped>\n",
       "    .dataframe tbody tr th:only-of-type {\n",
       "        vertical-align: middle;\n",
       "    }\n",
       "\n",
       "    .dataframe tbody tr th {\n",
       "        vertical-align: top;\n",
       "    }\n",
       "\n",
       "    .dataframe thead th {\n",
       "        text-align: right;\n",
       "    }\n",
       "</style>\n",
       "<table border=\"1\" class=\"dataframe\">\n",
       "  <thead>\n",
       "    <tr style=\"text-align: right;\">\n",
       "      <th></th>\n",
       "      <th>Average Tumor Volume (mm3)</th>\n",
       "      <th>Median Tumor Volume (mm3)</th>\n",
       "      <th>Std. Dev. Tumor Volume (mm3)</th>\n",
       "      <th>Sem Tumor Volume (mm3)</th>\n",
       "      <th>Variance Tumor Volume (mm3)</th>\n",
       "    </tr>\n",
       "    <tr>\n",
       "      <th>Drug Regimen</th>\n",
       "      <th></th>\n",
       "      <th></th>\n",
       "      <th></th>\n",
       "      <th></th>\n",
       "      <th></th>\n",
       "    </tr>\n",
       "  </thead>\n",
       "  <tbody>\n",
       "    <tr>\n",
       "      <th>Capomulin</th>\n",
       "      <td>40.675741</td>\n",
       "      <td>41.557809</td>\n",
       "      <td>4.994774</td>\n",
       "      <td>0.329346</td>\n",
       "      <td>24.947764</td>\n",
       "    </tr>\n",
       "    <tr>\n",
       "      <th>Ceftamin</th>\n",
       "      <td>52.591172</td>\n",
       "      <td>51.776157</td>\n",
       "      <td>6.268188</td>\n",
       "      <td>0.469821</td>\n",
       "      <td>39.290177</td>\n",
       "    </tr>\n",
       "    <tr>\n",
       "      <th>Infubinol</th>\n",
       "      <td>52.884795</td>\n",
       "      <td>51.820584</td>\n",
       "      <td>6.567243</td>\n",
       "      <td>0.492236</td>\n",
       "      <td>43.128684</td>\n",
       "    </tr>\n",
       "    <tr>\n",
       "      <th>Ketapril</th>\n",
       "      <td>55.235638</td>\n",
       "      <td>53.698743</td>\n",
       "      <td>8.279709</td>\n",
       "      <td>0.603860</td>\n",
       "      <td>68.553577</td>\n",
       "    </tr>\n",
       "    <tr>\n",
       "      <th>Naftisol</th>\n",
       "      <td>54.331565</td>\n",
       "      <td>52.509285</td>\n",
       "      <td>8.134708</td>\n",
       "      <td>0.596466</td>\n",
       "      <td>66.173479</td>\n",
       "    </tr>\n",
       "    <tr>\n",
       "      <th>Placebo</th>\n",
       "      <td>54.033581</td>\n",
       "      <td>52.288934</td>\n",
       "      <td>7.821003</td>\n",
       "      <td>0.581331</td>\n",
       "      <td>61.168083</td>\n",
       "    </tr>\n",
       "    <tr>\n",
       "      <th>Propriva</th>\n",
       "      <td>52.320930</td>\n",
       "      <td>50.446266</td>\n",
       "      <td>6.622085</td>\n",
       "      <td>0.544332</td>\n",
       "      <td>43.852013</td>\n",
       "    </tr>\n",
       "    <tr>\n",
       "      <th>Ramicane</th>\n",
       "      <td>40.216745</td>\n",
       "      <td>40.673236</td>\n",
       "      <td>4.846308</td>\n",
       "      <td>0.320955</td>\n",
       "      <td>23.486704</td>\n",
       "    </tr>\n",
       "    <tr>\n",
       "      <th>Stelasyn</th>\n",
       "      <td>54.233149</td>\n",
       "      <td>52.431737</td>\n",
       "      <td>7.710419</td>\n",
       "      <td>0.573111</td>\n",
       "      <td>59.450562</td>\n",
       "    </tr>\n",
       "    <tr>\n",
       "      <th>Zoniferol</th>\n",
       "      <td>53.236507</td>\n",
       "      <td>51.818479</td>\n",
       "      <td>6.966589</td>\n",
       "      <td>0.516398</td>\n",
       "      <td>48.533355</td>\n",
       "    </tr>\n",
       "  </tbody>\n",
       "</table>\n",
       "</div>"
      ],
      "text/plain": [
       "              Average Tumor Volume (mm3)  Median Tumor Volume (mm3)  \\\n",
       "Drug Regimen                                                          \n",
       "Capomulin                      40.675741                  41.557809   \n",
       "Ceftamin                       52.591172                  51.776157   \n",
       "Infubinol                      52.884795                  51.820584   \n",
       "Ketapril                       55.235638                  53.698743   \n",
       "Naftisol                       54.331565                  52.509285   \n",
       "Placebo                        54.033581                  52.288934   \n",
       "Propriva                       52.320930                  50.446266   \n",
       "Ramicane                       40.216745                  40.673236   \n",
       "Stelasyn                       54.233149                  52.431737   \n",
       "Zoniferol                      53.236507                  51.818479   \n",
       "\n",
       "              Std. Dev. Tumor Volume (mm3)  Sem Tumor Volume (mm3)  \\\n",
       "Drug Regimen                                                         \n",
       "Capomulin                         4.994774                0.329346   \n",
       "Ceftamin                          6.268188                0.469821   \n",
       "Infubinol                         6.567243                0.492236   \n",
       "Ketapril                          8.279709                0.603860   \n",
       "Naftisol                          8.134708                0.596466   \n",
       "Placebo                           7.821003                0.581331   \n",
       "Propriva                          6.622085                0.544332   \n",
       "Ramicane                          4.846308                0.320955   \n",
       "Stelasyn                          7.710419                0.573111   \n",
       "Zoniferol                         6.966589                0.516398   \n",
       "\n",
       "              Variance Tumor Volume (mm3)  \n",
       "Drug Regimen                               \n",
       "Capomulin                       24.947764  \n",
       "Ceftamin                        39.290177  \n",
       "Infubinol                       43.128684  \n",
       "Ketapril                        68.553577  \n",
       "Naftisol                        66.173479  \n",
       "Placebo                         61.168083  \n",
       "Propriva                        43.852013  \n",
       "Ramicane                        23.486704  \n",
       "Stelasyn                        59.450562  \n",
       "Zoniferol                       48.533355  "
      ]
     },
     "execution_count": 9,
     "metadata": {},
     "output_type": "execute_result"
    }
   ],
   "source": [
    "# Create a summary table\n",
    "means = clean_df.groupby(\"Drug Regimen\").mean()[\"Tumor Volume (mm3)\"]\n",
    "medians = clean_df.groupby(\"Drug Regimen\").median()[\"Tumor Volume (mm3)\"]\n",
    "variance = clean_df.groupby(\"Drug Regimen\").var()[\"Tumor Volume (mm3)\"]\n",
    "sem = clean_df.groupby(\"Drug Regimen\").sem()[\"Tumor Volume (mm3)\"]\n",
    "std = clean_df.groupby(\"Drug Regimen\").std()[\"Tumor Volume (mm3)\"]\n",
    "means = clean_df.groupby(\"Drug Regimen\").mean()[\"Tumor Volume (mm3)\"]\n",
    "summary_table1 = pd.DataFrame({\"Average Tumor Volume (mm3)\": means,\n",
    "                               \"Median Tumor Volume (mm3)\": medians,\n",
    "                               \"Std. Dev. Tumor Volume (mm3)\": std,\n",
    "                               \"Sem Tumor Volume (mm3)\": sem,\n",
    "                               \"Variance Tumor Volume (mm3)\": variance})\n",
    "summary_table1"
   ]
  },
  {
   "cell_type": "markdown",
   "metadata": {},
   "source": [
    "## Bar Plots"
   ]
  },
  {
   "cell_type": "code",
   "execution_count": 10,
   "metadata": {},
   "outputs": [],
   "source": [
    "# Generate a bar plot showing the number of mice per time point for each treatment throughout the course of the study using pandas."
   ]
  },
  {
   "cell_type": "code",
   "execution_count": 11,
   "metadata": {},
   "outputs": [
    {
     "data": {
      "image/png": "[encoded data removed]",
      "text/plain": [
       "<Figure size 432x288 with 1 Axes>"
      ]
     },
     "metadata": {
      "needs_background": "light"
     },
     "output_type": "display_data"
    },
    {
     "data": {
      "image/png": "[encoded data removed]",
      "text/plain": [
       "<Figure size 432x288 with 1 Axes>"
      ]
     },
     "metadata": {
      "needs_background": "light"
     },
     "output_type": "display_data"
    },
    {
     "data": {
      "image/png": "[encoded data removed]",
      "text/plain": [
       "<Figure size 432x288 with 1 Axes>"
      ]
     },
     "metadata": {
      "needs_background": "light"
     },
     "output_type": "display_data"
    },
    {
     "data": {
      "image/png": "[encoded data removed]",
      "text/plain": [
       "<Figure size 432x288 with 1 Axes>"
      ]
     },
     "metadata": {
      "needs_background": "light"
     },
     "output_type": "display_data"
    },
    {
     "data": {
      "image/png": "[encoded data removed]",
      "text/plain": [
       "<Figure size 432x288 with 1 Axes>"
      ]
     },
     "metadata": {
      "needs_background": "light"
     },
     "output_type": "display_data"
    },
    {
     "data": {
      "image/png": "[encoded data removed]",
      "text/plain": [
       "<Figure size 432x288 with 1 Axes>"
      ]
     },
     "metadata": {
      "needs_background": "light"
     },
     "output_type": "display_data"
    },
    {
     "data": {
      "image/png": "[encoded data removed]",
      "text/plain": [
       "<Figure size 432x288 with 1 Axes>"
      ]
     },
     "metadata": {
      "needs_background": "light"
     },
     "output_type": "display_data"
    },
    {
     "data": {
      "image/png": "[encoded data removed]",
      "text/plain": [
       "<Figure size 432x288 with 1 Axes>"
      ]
     },
     "metadata": {
      "needs_background": "light"
     },
     "output_type": "display_data"
    },
    {
     "data": {
      "image/png": "[encoded data removed]",
      "text/plain": [
       "<Figure size 432x288 with 1 Axes>"
      ]
     },
     "metadata": {
      "needs_background": "light"
     },
     "output_type": "display_data"
    },
    {
     "data": {
      "image/png": "[encoded data removed]",
      "text/plain": [
       "<Figure size 432x288 with 1 Axes>"
      ]
     },
     "metadata": {
      "needs_background": "light"
     },
     "output_type": "display_data"
    }
   ],
   "source": [
    "# Create a drug list to iterate over:\n",
    "drug_list = summary_table1.index.tolist()\n",
    "\n",
    "# Iterate over the drug list and plot Mouse ID Count vs. Timepoints for each drug regimen.\n",
    "for x in range(len(drug_list)):\n",
    "    drug_name = drug_list[x]\n",
    "    drug_list[x] = clean_df.loc[clean_df[\"Drug Regimen\"] == drug_list[x]]\n",
    "    plot_title = f\"{drug_name} - Mice Count vs. Timepoint\"\n",
    "    drug_list[x] = drug_list[x][[\"Mouse ID\", \"Timepoint\"]]\n",
    "    drug_list[x] = drug_list[x].groupby('Timepoint')\n",
    "    mouse_id = drug_list[x]['Mouse ID'].count()\n",
    "    timepoint_barchart = mouse_id.plot(kind='bar', title=plot_title, color='g')\n",
    "    timepoint_barchart.set_xlabel(\"Timepoints\")\n",
    "    timepoint_barchart.set_ylabel(\"Mice Count\")\n",
    "    plt.show()"
   ]
  },
  {
   "cell_type": "code",
   "execution_count": 12,
   "metadata": {
    "scrolled": true
   },
   "outputs": [
    {
     "data": {
      "image/png": "[encoded data removed]",
      "text/plain": [
       "<Figure size 432x288 with 1 Axes>"
      ]
     },
     "metadata": {
      "needs_background": "light"
     },
     "output_type": "display_data"
    },
    {
     "data": {
      "image/png": "[encoded data removed]",
      "text/plain": [
       "<Figure size 432x288 with 1 Axes>"
      ]
     },
     "metadata": {
      "needs_background": "light"
     },
     "output_type": "display_data"
    },
    {
     "data": {
      "image/png": "[encoded data removed]",
      "text/plain": [
       "<Figure size 432x288 with 1 Axes>"
      ]
     },
     "metadata": {
      "needs_background": "light"
     },
     "output_type": "display_data"
    },
    {
     "data": {
      "image/png": "[encoded data removed]",
      "text/plain": [
       "<Figure size 432x288 with 1 Axes>"
      ]
     },
     "metadata": {
      "needs_background": "light"
     },
     "output_type": "display_data"
    },
    {
     "data": {
      "image/png": "[encoded data removed]",
      "text/plain": [
       "<Figure size 432x288 with 1 Axes>"
      ]
     },
     "metadata": {
      "needs_background": "light"
     },
     "output_type": "display_data"
    },
    {
     "data": {
      "image/png": "[encoded data removed]",
      "text/plain": [
       "<Figure size 432x288 with 1 Axes>"
      ]
     },
     "metadata": {
      "needs_background": "light"
     },
     "output_type": "display_data"
    },
    {
     "data": {
      "image/png": "[encoded data removed]",
      "text/plain": [
       "<Figure size 432x288 with 1 Axes>"
      ]
     },
     "metadata": {
      "needs_background": "light"
     },
     "output_type": "display_data"
    },
    {
     "data": {
      "image/png": "[encoded data removed]",
      "text/plain": [
       "<Figure size 432x288 with 1 Axes>"
      ]
     },
     "metadata": {
      "needs_background": "light"
     },
     "output_type": "display_data"
    },
    {
     "data": {
      "image/png": "[encoded data removed]",
      "text/plain": [
       "<Figure size 432x288 with 1 Axes>"
      ]
     },
     "metadata": {
      "needs_background": "light"
     },
     "output_type": "display_data"
    },
    {
     "data": {
      "image/png": "[encoded data removed]",
      "text/plain": [
       "<Figure size 432x288 with 1 Axes>"
      ]
     },
     "metadata": {
      "needs_background": "light"
     },
     "output_type": "display_data"
    }
   ],
   "source": [
    "# Generate the same plots as above but using plt.bar method\n",
    "x_axis = [value for value in range(0, 50, 5)]\n",
    "\n",
    "for x in range(len(drug_list)):\n",
    "    drug_name_plt = drug_list[x]\n",
    "    mouse_id = drug_list[x]['Mouse ID'].count()\n",
    "    plt.bar(x_axis, mouse_id, color='g', alpha=0.5, width=3, align=\"center\")\n",
    "    plt.title(f\"{drug_name_plt} - Mouse ID Count per Timepoint\")\n",
    "    plt.xlabel(\"Timepoints\")\n",
    "    plt.ylabel(\"Mouse ID Count\")\n",
    "    plt.show()"
   ]
  },
  {
   "cell_type": "code",
   "execution_count": 13,
   "metadata": {},
   "outputs": [
    {
     "name": "stdout",
     "output_type": "stream",
     "text": [
      "{<pandas.core.groupby.generic.DataFrameGroupBy object at 0x7fd72aa52880>: 'royalblue', <pandas.core.groupby.generic.DataFrameGroupBy object at 0x7fd72434a190>: 'darkorange', <pandas.core.groupby.generic.DataFrameGroupBy object at 0x7fd72aadc8e0>: 'green', <pandas.core.groupby.generic.DataFrameGroupBy object at 0x7fd72aabeb20>: 'red', <pandas.core.groupby.generic.DataFrameGroupBy object at 0x7fd72ad8cfa0>: 'lime', <pandas.core.groupby.generic.DataFrameGroupBy object at 0x7fd7242f9ca0>: 'blueviolet', <pandas.core.groupby.generic.DataFrameGroupBy object at 0x7fd72ad80c10>: 'pink', <pandas.core.groupby.generic.DataFrameGroupBy object at 0x7fd72b0c9f40>: 'cornflowerblue', <pandas.core.groupby.generic.DataFrameGroupBy object at 0x7fd72b1e88b0>: 'peru', <pandas.core.groupby.generic.DataFrameGroupBy object at 0x7fd72b2fffd0>: 'lightseagreen'}\n"
     ]
    },
    {
     "data": {
      "image/png": "[encoded data removed]",
      "text/plain": [
       "<Figure size 864x216 with 1 Axes>"
      ]
     },
     "metadata": {
      "needs_background": "light"
     },
     "output_type": "display_data"
    },
    {
     "data": {
      "text/plain": [
       "<Figure size 432x288 with 0 Axes>"
      ]
     },
     "metadata": {},
     "output_type": "display_data"
    }
   ],
   "source": [
    "# Option 3 - aggregate the plots into one:\n",
    "# Create a grouped_df with two columns:\n",
    "grouped_gf = clean_df.groupby(['Timepoint','Drug Regimen'])\n",
    "mice_count = grouped_gf['Timepoint'].count()\n",
    "\n",
    "# Aggreate the data into one plot:\n",
    "agg_df = clean_df.groupby(['Drug Regimen','Timepoint']).agg({'Mouse ID':'count'})\n",
    "\n",
    "# This dictionary is to color the bars in the custom plot based on specific drug.\n",
    "values = [\"royalblue\",\"darkorange\",\"green\",\"red\",\"lime\",\"blueviolet\",\"pink\",\"cornflowerblue\",\"peru\",\"lightseagreen\"]\n",
    "keys = drug_list\n",
    "color_drug_dict = dict(zip(keys, values))\n",
    "print(color_drug_dict)\n",
    "\n",
    "# Plot aggregated data\n",
    "agg_df.unstack(0).plot(kind=\"bar\",figsize=(12,3), label='_nolegend_', color=values, width=0.65) \n",
    "plt.title(\"Figure 1 - Aggregated results for Mouse ID Counts for each Drug Regimen at each Timepoint\")\n",
    "plt.legend(bbox_to_anchor=(1.05, 1))\n",
    "plt.xlabel(\"Timepoints\")\n",
    "plt.ylabel(\"Mouse ID Count\")\n",
    "plt.tight_layout()\n",
    "plt.show()\n",
    "plt.savefig(\"AnalysisData/agg_df_plot\")"
   ]
  },
  {
   "cell_type": "code",
   "execution_count": null,
   "metadata": {},
   "outputs": [],
   "source": []
  },
  {
   "cell_type": "code",
   "execution_count": 14,
   "metadata": {},
   "outputs": [],
   "source": [
    "# BONUS, IF YOU WOULD LIKE TO GENERATE PLOT FOR SPECIFIC DRUG, REMOVE MARK DOWN FROM CODE BELOW!"
   ]
  },
  {
   "cell_type": "markdown",
   "metadata": {},
   "source": [
    "#### Change from Markdown to Code to try plotting custom plots\n",
    "#### Practicing getting a custom plot based on the user input of the Drug Regimen:\n",
    "drug_user_input = input(\"What Drug Regimen would you like to look up?\")"
   ]
  },
  {
   "cell_type": "markdown",
   "metadata": {
    "scrolled": true
   },
   "source": [
    "#### Change from Markdown to Code to try plotting custom plots\n",
    "#### Note: the color-code will be based on the aggregated plot above.\n",
    "for x in range(len(drug_list_plt)):\n",
    "    if drug_user_input == drug_list_plt[x]:\n",
    "        x_axis = [value for value in range(0, 50, 5)]\n",
    "        mouse_id = drug_list[x]['Mouse ID'].count()\n",
    "        color = color_drug_dict.get(drug_list_plt[x], \"\")\n",
    "        print()\n",
    "        plt.bar(x_axis, mouse_id, color=color, width=3, alpha=.75, align=\"center\")\n",
    "        plt.title(f\"{drug_user_input} - Mouse ID Count per Timepoint\")\n",
    "        plt.xlabel(\"Timepoints\")\n",
    "        plt.ylabel(\"Mouse ID Count\")\n",
    "        plt.show()\n",
    "        break\n",
    "print(x_axis)"
   ]
  },
  {
   "cell_type": "code",
   "execution_count": 15,
   "metadata": {},
   "outputs": [
    {
     "name": "stdout",
     "output_type": "stream",
     "text": [
      "                        Timepoint\n",
      "Drug Regimen Timepoint           \n",
      "Capomulin    0                  0\n",
      "             5                125\n",
      "             10               250\n",
      "             15               360\n",
      "             20               460\n",
      "...                           ...\n",
      "Zoniferol    25               400\n",
      "             30               450\n",
      "             35               490\n",
      "             40               560\n",
      "             45               630\n",
      "\n",
      "[100 rows x 1 columns]\n"
     ]
    },
    {
     "data": {
      "image/png": "[encoded data removed]",
      "text/plain": [
       "<Figure size 864x216 with 1 Axes>"
      ]
     },
     "metadata": {
      "needs_background": "light"
     },
     "output_type": "display_data"
    },
    {
     "name": "stdout",
     "output_type": "stream",
     "text": [
      "Based on the graph below, the top 4 treatments are: \n"
     ]
    }
   ],
   "source": [
    "# Trying to see if possible to identify the top 4 most promising drug regimens from the aggregated plots\n",
    "# Attempt 1 - Use sum() function on each of the drug regimen's timepoints\n",
    "agg_tp_df = clean_df.groupby(['Drug Regimen', 'Timepoint']).agg({'Timepoint':'sum'})\n",
    "print(agg_tp_df)\n",
    "\n",
    "# plot with unstack option:\n",
    "agg_tp_df.unstack(0).plot(kind=\"bar\",figsize=(12,3), label='_nolegend_', width=0.65) \n",
    "plt.legend(bbox_to_anchor=(1.05, 1))\n",
    "plt.title(\"Figure 2 - Aggregated results for Sum of Timepoints for each Drug Regimen at each Timepoint\")\n",
    "plt.xlabel(\"Timepoints\")\n",
    "plt.ylabel(\"Timepoints Sum - Accumulative\")\n",
    "plt.tight_layout()\n",
    "plt.show()\n",
    "print(f\"Based on the graph below, the top 4 treatments are: \")"
   ]
  },
  {
   "cell_type": "code",
   "execution_count": 16,
   "metadata": {},
   "outputs": [
    {
     "data": {
      "image/png": "[encoded data removed]",
      "text/plain": [
       "<Figure size 864x216 with 1 Axes>"
      ]
     },
     "metadata": {
      "needs_background": "light"
     },
     "output_type": "display_data"
    }
   ],
   "source": [
    "# Attempt 2 - Use max() function on each of the drug regimen's timepoints\n",
    "agg_tp_max_df = clean_df.groupby(['Drug Regimen', 'Timepoint']).agg({'Timepoint':'max'})\n",
    "\n",
    "# plot with unstack option:\n",
    "agg_tp_df.unstack(0).plot(kind=\"bar\",figsize=(12,3), label='_nolegend_', width=0.65) \n",
    "plt.legend(bbox_to_anchor=(1.05, 1))\n",
    "plt.title(\"Figure 3 - Aggregated results for Maximum Timepoints for each Drug Regimen at each Timepoint\")\n",
    "plt.xlabel(\"Timepoints\")\n",
    "plt.ylabel(\"Timepoints Max - Accumulative\")\n",
    "plt.tight_layout()\n",
    "plt.show()\n",
    "#print(f\"Based on the graph below, the top 4 treatments are: \")"
   ]
  },
  {
   "cell_type": "code",
   "execution_count": 17,
   "metadata": {},
   "outputs": [
    {
     "data": {
      "text/html": [
       "<div>\n",
       "<style scoped>\n",
       "    .dataframe tbody tr th:only-of-type {\n",
       "        vertical-align: middle;\n",
       "    }\n",
       "\n",
       "    .dataframe tbody tr th {\n",
       "        vertical-align: top;\n",
       "    }\n",
       "\n",
       "    .dataframe thead th {\n",
       "        text-align: right;\n",
       "    }\n",
       "</style>\n",
       "<table border=\"1\" class=\"dataframe\">\n",
       "  <thead>\n",
       "    <tr style=\"text-align: right;\">\n",
       "      <th></th>\n",
       "      <th></th>\n",
       "      <th>Tumor Volume (mm3)</th>\n",
       "      <th>Metastatic Sites</th>\n",
       "      <th>Age_months</th>\n",
       "      <th>Weight (g)</th>\n",
       "    </tr>\n",
       "    <tr>\n",
       "      <th>Drug Regimen</th>\n",
       "      <th>Timepoint</th>\n",
       "      <th></th>\n",
       "      <th></th>\n",
       "      <th></th>\n",
       "      <th></th>\n",
       "    </tr>\n",
       "  </thead>\n",
       "  <tbody>\n",
       "    <tr>\n",
       "      <th rowspan=\"5\" valign=\"top\">Capomulin</th>\n",
       "      <th>0</th>\n",
       "      <td>45.000000</td>\n",
       "      <td>0.000000</td>\n",
       "      <td>14.040000</td>\n",
       "      <td>20.120000</td>\n",
       "    </tr>\n",
       "    <tr>\n",
       "      <th>5</th>\n",
       "      <td>44.266086</td>\n",
       "      <td>0.160000</td>\n",
       "      <td>14.040000</td>\n",
       "      <td>20.120000</td>\n",
       "    </tr>\n",
       "    <tr>\n",
       "      <th>10</th>\n",
       "      <td>43.084291</td>\n",
       "      <td>0.320000</td>\n",
       "      <td>14.040000</td>\n",
       "      <td>20.120000</td>\n",
       "    </tr>\n",
       "    <tr>\n",
       "      <th>15</th>\n",
       "      <td>42.064317</td>\n",
       "      <td>0.375000</td>\n",
       "      <td>13.666667</td>\n",
       "      <td>20.000000</td>\n",
       "    </tr>\n",
       "    <tr>\n",
       "      <th>20</th>\n",
       "      <td>40.716325</td>\n",
       "      <td>0.652174</td>\n",
       "      <td>13.304348</td>\n",
       "      <td>19.782609</td>\n",
       "    </tr>\n",
       "  </tbody>\n",
       "</table>\n",
       "</div>"
      ],
      "text/plain": [
       "                        Tumor Volume (mm3)  Metastatic Sites  Age_months  \\\n",
       "Drug Regimen Timepoint                                                     \n",
       "Capomulin    0                   45.000000          0.000000   14.040000   \n",
       "             5                   44.266086          0.160000   14.040000   \n",
       "             10                  43.084291          0.320000   14.040000   \n",
       "             15                  42.064317          0.375000   13.666667   \n",
       "             20                  40.716325          0.652174   13.304348   \n",
       "\n",
       "                        Weight (g)  \n",
       "Drug Regimen Timepoint              \n",
       "Capomulin    0           20.120000  \n",
       "             5           20.120000  \n",
       "             10          20.120000  \n",
       "             15          20.000000  \n",
       "             20          19.782609  "
      ]
     },
     "execution_count": 17,
     "metadata": {},
     "output_type": "execute_result"
    }
   ],
   "source": [
    "# Try extracting top 4 Timepoints based on their maximum value:\n",
    "mean_tumor_volume = clean_df.groupby(['Drug Regimen', 'Timepoint']).mean()\n",
    "mean_tumor_volume.head()\n",
    "# mean_df.to_csv(\"new_df.csv\")"
   ]
  },
  {
   "cell_type": "code",
   "execution_count": 18,
   "metadata": {},
   "outputs": [
    {
     "data": {
      "text/html": [
       "<div>\n",
       "<style scoped>\n",
       "    .dataframe tbody tr th:only-of-type {\n",
       "        vertical-align: middle;\n",
       "    }\n",
       "\n",
       "    .dataframe tbody tr th {\n",
       "        vertical-align: top;\n",
       "    }\n",
       "\n",
       "    .dataframe thead th {\n",
       "        text-align: right;\n",
       "    }\n",
       "</style>\n",
       "<table border=\"1\" class=\"dataframe\">\n",
       "  <thead>\n",
       "    <tr style=\"text-align: right;\">\n",
       "      <th></th>\n",
       "      <th>Drug Regimen</th>\n",
       "      <th>Timepoint</th>\n",
       "      <th>Tumor Volume (mm3)</th>\n",
       "    </tr>\n",
       "  </thead>\n",
       "  <tbody>\n",
       "    <tr>\n",
       "      <th>0</th>\n",
       "      <td>Capomulin</td>\n",
       "      <td>0</td>\n",
       "      <td>45.000000</td>\n",
       "    </tr>\n",
       "    <tr>\n",
       "      <th>1</th>\n",
       "      <td>Capomulin</td>\n",
       "      <td>5</td>\n",
       "      <td>44.266086</td>\n",
       "    </tr>\n",
       "    <tr>\n",
       "      <th>2</th>\n",
       "      <td>Capomulin</td>\n",
       "      <td>10</td>\n",
       "      <td>43.084291</td>\n",
       "    </tr>\n",
       "    <tr>\n",
       "      <th>3</th>\n",
       "      <td>Capomulin</td>\n",
       "      <td>15</td>\n",
       "      <td>42.064317</td>\n",
       "    </tr>\n",
       "    <tr>\n",
       "      <th>4</th>\n",
       "      <td>Capomulin</td>\n",
       "      <td>20</td>\n",
       "      <td>40.716325</td>\n",
       "    </tr>\n",
       "  </tbody>\n",
       "</table>\n",
       "</div>"
      ],
      "text/plain": [
       "  Drug Regimen  Timepoint  Tumor Volume (mm3)\n",
       "0    Capomulin          0           45.000000\n",
       "1    Capomulin          5           44.266086\n",
       "2    Capomulin         10           43.084291\n",
       "3    Capomulin         15           42.064317\n",
       "4    Capomulin         20           40.716325"
      ]
     },
     "execution_count": 18,
     "metadata": {},
     "output_type": "execute_result"
    }
   ],
   "source": [
    "mean_tumor_volume = mean_tumor_volume['Tumor Volume (mm3)'].reset_index()\n",
    "mean_tumor_volume.head()"
   ]
  },
  {
   "cell_type": "code",
   "execution_count": 19,
   "metadata": {},
   "outputs": [
    {
     "data": {
      "text/html": [
       "<div>\n",
       "<style scoped>\n",
       "    .dataframe tbody tr th:only-of-type {\n",
       "        vertical-align: middle;\n",
       "    }\n",
       "\n",
       "    .dataframe tbody tr th {\n",
       "        vertical-align: top;\n",
       "    }\n",
       "\n",
       "    .dataframe thead th {\n",
       "        text-align: right;\n",
       "    }\n",
       "</style>\n",
       "<table border=\"1\" class=\"dataframe\">\n",
       "  <thead>\n",
       "    <tr style=\"text-align: right;\">\n",
       "      <th></th>\n",
       "      <th>Drug Regimen</th>\n",
       "      <th>Timepoint</th>\n",
       "      <th>Tumor Volume (mm3)</th>\n",
       "      <th>Metastatic Sites</th>\n",
       "      <th>Age_months</th>\n",
       "      <th>Weight (g)</th>\n",
       "    </tr>\n",
       "  </thead>\n",
       "  <tbody>\n",
       "    <tr>\n",
       "      <th>0</th>\n",
       "      <td>Capomulin</td>\n",
       "      <td>0</td>\n",
       "      <td>0.000000</td>\n",
       "      <td>0.000000</td>\n",
       "      <td>7.850053</td>\n",
       "      <td>2.862400</td>\n",
       "    </tr>\n",
       "    <tr>\n",
       "      <th>1</th>\n",
       "      <td>Capomulin</td>\n",
       "      <td>5</td>\n",
       "      <td>2.242964</td>\n",
       "      <td>0.374166</td>\n",
       "      <td>7.850053</td>\n",
       "      <td>2.862400</td>\n",
       "    </tr>\n",
       "    <tr>\n",
       "      <th>2</th>\n",
       "      <td>Capomulin</td>\n",
       "      <td>10</td>\n",
       "      <td>3.513422</td>\n",
       "      <td>0.627163</td>\n",
       "      <td>7.850053</td>\n",
       "      <td>2.862400</td>\n",
       "    </tr>\n",
       "    <tr>\n",
       "      <th>3</th>\n",
       "      <td>Capomulin</td>\n",
       "      <td>15</td>\n",
       "      <td>4.108369</td>\n",
       "      <td>0.646899</td>\n",
       "      <td>7.788881</td>\n",
       "      <td>2.859006</td>\n",
       "    </tr>\n",
       "    <tr>\n",
       "      <th>4</th>\n",
       "      <td>Capomulin</td>\n",
       "      <td>20</td>\n",
       "      <td>4.362915</td>\n",
       "      <td>0.775107</td>\n",
       "      <td>7.754382</td>\n",
       "      <td>2.712874</td>\n",
       "    </tr>\n",
       "  </tbody>\n",
       "</table>\n",
       "</div>"
      ],
      "text/plain": [
       "  Drug Regimen  Timepoint  Tumor Volume (mm3)  Metastatic Sites  Age_months  \\\n",
       "0    Capomulin          0            0.000000          0.000000    7.850053   \n",
       "1    Capomulin          5            2.242964          0.374166    7.850053   \n",
       "2    Capomulin         10            3.513422          0.627163    7.850053   \n",
       "3    Capomulin         15            4.108369          0.646899    7.788881   \n",
       "4    Capomulin         20            4.362915          0.775107    7.754382   \n",
       "\n",
       "   Weight (g)  \n",
       "0    2.862400  \n",
       "1    2.862400  \n",
       "2    2.862400  \n",
       "3    2.859006  \n",
       "4    2.712874  "
      ]
     },
     "execution_count": 19,
     "metadata": {},
     "output_type": "execute_result"
    }
   ],
   "source": [
    "std_tumor_volume = clean_df.groupby([\"Drug Regimen\",\"Timepoint\"]).std().reset_index()\n",
    "std_tumor_volume.head()"
   ]
  },
  {
   "cell_type": "code",
   "execution_count": 20,
   "metadata": {},
   "outputs": [
    {
     "data": {
      "text/html": [
       "<div>\n",
       "<style scoped>\n",
       "    .dataframe tbody tr th:only-of-type {\n",
       "        vertical-align: middle;\n",
       "    }\n",
       "\n",
       "    .dataframe tbody tr th {\n",
       "        vertical-align: top;\n",
       "    }\n",
       "\n",
       "    .dataframe thead th {\n",
       "        text-align: right;\n",
       "    }\n",
       "</style>\n",
       "<table border=\"1\" class=\"dataframe\">\n",
       "  <thead>\n",
       "    <tr style=\"text-align: right;\">\n",
       "      <th></th>\n",
       "      <th>Drug Regimen</th>\n",
       "      <th>Timepoint</th>\n",
       "      <th>Age_months</th>\n",
       "      <th>Metastatic Sites</th>\n",
       "      <th>Mouse ID</th>\n",
       "      <th>Sex</th>\n",
       "      <th>Tumor Volume (mm3)</th>\n",
       "      <th>Weight (g)</th>\n",
       "    </tr>\n",
       "  </thead>\n",
       "  <tbody>\n",
       "    <tr>\n",
       "      <th>0</th>\n",
       "      <td>Capomulin</td>\n",
       "      <td>0</td>\n",
       "      <td>1.570011</td>\n",
       "      <td>0.000000</td>\n",
       "      <td>NaN</td>\n",
       "      <td>NaN</td>\n",
       "      <td>0.000000</td>\n",
       "      <td>0.572480</td>\n",
       "    </tr>\n",
       "    <tr>\n",
       "      <th>1</th>\n",
       "      <td>Capomulin</td>\n",
       "      <td>5</td>\n",
       "      <td>1.570011</td>\n",
       "      <td>0.074833</td>\n",
       "      <td>NaN</td>\n",
       "      <td>NaN</td>\n",
       "      <td>0.448593</td>\n",
       "      <td>0.572480</td>\n",
       "    </tr>\n",
       "    <tr>\n",
       "      <th>2</th>\n",
       "      <td>Capomulin</td>\n",
       "      <td>10</td>\n",
       "      <td>1.570011</td>\n",
       "      <td>0.125433</td>\n",
       "      <td>NaN</td>\n",
       "      <td>NaN</td>\n",
       "      <td>0.702684</td>\n",
       "      <td>0.572480</td>\n",
       "    </tr>\n",
       "    <tr>\n",
       "      <th>3</th>\n",
       "      <td>Capomulin</td>\n",
       "      <td>15</td>\n",
       "      <td>1.589899</td>\n",
       "      <td>0.132048</td>\n",
       "      <td>NaN</td>\n",
       "      <td>NaN</td>\n",
       "      <td>0.838617</td>\n",
       "      <td>0.583592</td>\n",
       "    </tr>\n",
       "    <tr>\n",
       "      <th>4</th>\n",
       "      <td>Capomulin</td>\n",
       "      <td>20</td>\n",
       "      <td>1.616900</td>\n",
       "      <td>0.161621</td>\n",
       "      <td>NaN</td>\n",
       "      <td>NaN</td>\n",
       "      <td>0.909731</td>\n",
       "      <td>0.565673</td>\n",
       "    </tr>\n",
       "  </tbody>\n",
       "</table>\n",
       "</div>"
      ],
      "text/plain": [
       "  Drug Regimen  Timepoint  Age_months  Metastatic Sites  Mouse ID  Sex  \\\n",
       "0    Capomulin          0    1.570011          0.000000       NaN  NaN   \n",
       "1    Capomulin          5    1.570011          0.074833       NaN  NaN   \n",
       "2    Capomulin         10    1.570011          0.125433       NaN  NaN   \n",
       "3    Capomulin         15    1.589899          0.132048       NaN  NaN   \n",
       "4    Capomulin         20    1.616900          0.161621       NaN  NaN   \n",
       "\n",
       "   Tumor Volume (mm3)  Weight (g)  \n",
       "0            0.000000    0.572480  \n",
       "1            0.448593    0.572480  \n",
       "2            0.702684    0.572480  \n",
       "3            0.838617    0.583592  \n",
       "4            0.909731    0.565673  "
      ]
     },
     "execution_count": 20,
     "metadata": {},
     "output_type": "execute_result"
    }
   ],
   "source": [
    "sem_tumor_volume = clean_df.groupby([\"Drug Regimen\",\"Timepoint\"]).sem().reset_index()\n",
    "sem_tumor_volume.head()"
   ]
  },
  {
   "cell_type": "code",
   "execution_count": 21,
   "metadata": {},
   "outputs": [
    {
     "data": {
      "text/plain": [
       "Text(0.5, 0, 'Drug Regimens')"
      ]
     },
     "execution_count": 21,
     "metadata": {},
     "output_type": "execute_result"
    },
    {
     "data": {
      "image/png": "[encoded data removed]",
      "text/plain": [
       "<Figure size 432x288 with 1 Axes>"
      ]
     },
     "metadata": {
      "needs_background": "light"
     },
     "output_type": "display_data"
    }
   ],
   "source": [
    "# Plot a more global visual on the effectiveness of drug regimen \n",
    "    # based on the total count of mice who lasted the longest throught the treatment\n",
    "df8 = clean_df['Drug Regimen'].value_counts()\n",
    "plot8 = df8.plot(kind='bar', title=\"Total Mice Count per Drug Regimen\", color='g')\n",
    "plt.title(\"Total Mice Count per Drug Regimen\")\n",
    "plt.ylabel(\"Mouse ID Count\")\n",
    "plt.xlabel(\"Drug Regimens\")"
   ]
  },
  {
   "cell_type": "code",
   "execution_count": 22,
   "metadata": {},
   "outputs": [
    {
     "data": {
      "text/plain": [
       "Text(0.5, 0, 'Drug Regimens')"
      ]
     },
     "execution_count": 22,
     "metadata": {},
     "output_type": "execute_result"
    },
    {
     "data": {
      "image/png": "[encoded data removed]",
      "text/plain": [
       "<Figure size 432x288 with 1 Axes>"
      ]
     },
     "metadata": {
      "needs_background": "light"
     },
     "output_type": "display_data"
    }
   ],
   "source": [
    "# Plot a more global visual on the effectiveness of drug regimen based on the total count of mice who lasted the longest throught the treatment\n",
    "df8 = clean_df['Drug Regimen'].value_counts()\n",
    "plt.bar(x_axis, df8, color='g', alpha=0.5, width=3, align=\"center\")\n",
    "plt.title(\"Total Mice Count per Drug Regimen\")\n",
    "plt.ylabel(\"Mouse ID Count\")\n",
    "plt.xlabel(\"Drug Regimens\")"
   ]
  },
  {
   "cell_type": "markdown",
   "metadata": {},
   "source": [
    "#### Not able to find the top 4 most promising drug regimens, except visually from the aggregated plots above, which might be misread. Need to try again in the Statistics section."
   ]
  },
  {
   "cell_type": "markdown",
   "metadata": {},
   "source": [
    "## Pie Plots"
   ]
  },
  {
   "cell_type": "code",
   "execution_count": 23,
   "metadata": {},
   "outputs": [
    {
     "data": {
      "text/plain": [
       "Sex\n",
       "Female    922\n",
       "Male      958\n",
       "Name: Sex, dtype: int64"
      ]
     },
     "execution_count": 23,
     "metadata": {},
     "output_type": "execute_result"
    }
   ],
   "source": [
    "# Generate a pie plot showing the distribution of female versus male mice using pandas\n",
    "gender_df = clean_df.groupby(\"Sex\")\n",
    "gender_df.count()\n",
    "gender_mice_filtered = gender_df[\"Sex\"]\n",
    "gender_mice_filtered.count()"
   ]
  },
  {
   "cell_type": "code",
   "execution_count": 24,
   "metadata": {},
   "outputs": [
    {
     "data": {
      "image/png": "[encoded data removed]",
      "text/plain": [
       "<Figure size 432x288 with 1 Axes>"
      ]
     },
     "metadata": {},
     "output_type": "display_data"
    }
   ],
   "source": [
    "# Generate Pie Plot using plt.pie()\n",
    "labels = [\"Female Mice\", \"Male Mice\"]\n",
    "sizes = [gender_mice_filtered.count()]\n",
    "colors = ['cyan', 'yellow']\n",
    "plt.pie(sizes, labels=labels, autopct=\"%.2f%%\", startangle=90, colors=colors)\n",
    "plt.title(\"Mice Sex Distribution using plt.pie method\")\n",
    "plt.savefig(\"AnalysisData/Female and Male Mice Distribution\")\n",
    "plt.show()"
   ]
  },
  {
   "cell_type": "code",
   "execution_count": 25,
   "metadata": {},
   "outputs": [
    {
     "name": "stdout",
     "output_type": "stream",
     "text": [
      "Sex\n",
      "Female    922\n",
      "Male      958\n",
      "Name: Sex, dtype: int64\n"
     ]
    }
   ],
   "source": [
    "# doc_plot = df.plot.pie(y='mass', figsize=(5, 5))\n",
    "print(sizes[0])"
   ]
  },
  {
   "cell_type": "code",
   "execution_count": 26,
   "metadata": {},
   "outputs": [
    {
     "data": {
      "image/png": "[encoded data removed]",
      "text/plain": [
       "<Figure size 288x288 with 1 Axes>"
      ]
     },
     "metadata": {},
     "output_type": "display_data"
    }
   ],
   "source": [
    "# Sex distribution using plot.pie()\n",
    "doc_df = pd.DataFrame({'Counts': (gender_df[\"Sex\"].count())},\n",
    "                  index=['Female', 'Male'])\n",
    "plot_sex = doc_df.plot.pie(y='Counts', title=\"Mice Sex Distribution\", \\\n",
    "    labels=['Female','Male'], figsize=(4,4), startangle=90, autopct=\"%.2f%%\", colors=['c','y'])"
   ]
  },
  {
   "cell_type": "markdown",
   "metadata": {},
   "source": [
    "## Quartiles, Outliers and Boxplots"
   ]
  },
  {
   "cell_type": "markdown",
   "metadata": {},
   "source": [
    "###### Calculate the final tumor volume of each mouse across four of the most promising treatment regimens. \n",
    "Based on the analysis above (particularly Figure 1 - Aggregated Results), the four most promising treatments are: ['Capomulin', 'Ramicane', 'Ketapril', 'Zoniferol']\n",
    "However, this is only visually. Continue the analysis on All Drug Regimens through statistical analysis."
   ]
  },
  {
   "cell_type": "code",
   "execution_count": 27,
   "metadata": {},
   "outputs": [
    {
     "data": {
      "text/html": [
       "<div>\n",
       "<style scoped>\n",
       "    .dataframe tbody tr th:only-of-type {\n",
       "        vertical-align: middle;\n",
       "    }\n",
       "\n",
       "    .dataframe tbody tr th {\n",
       "        vertical-align: top;\n",
       "    }\n",
       "\n",
       "    .dataframe thead th {\n",
       "        text-align: right;\n",
       "    }\n",
       "</style>\n",
       "<table border=\"1\" class=\"dataframe\">\n",
       "  <thead>\n",
       "    <tr style=\"text-align: right;\">\n",
       "      <th></th>\n",
       "      <th>Timepoint</th>\n",
       "      <th>Tumor Volume (mm3)</th>\n",
       "      <th>Metastatic Sites</th>\n",
       "      <th>Age_months</th>\n",
       "      <th>Weight (g)</th>\n",
       "    </tr>\n",
       "    <tr>\n",
       "      <th>Drug Regimen</th>\n",
       "      <th></th>\n",
       "      <th></th>\n",
       "      <th></th>\n",
       "      <th></th>\n",
       "      <th></th>\n",
       "    </tr>\n",
       "  </thead>\n",
       "  <tbody>\n",
       "    <tr>\n",
       "      <th>Capomulin</th>\n",
       "      <td>45.0</td>\n",
       "      <td>36.236114</td>\n",
       "      <td>1.476190</td>\n",
       "      <td>12.809524</td>\n",
       "      <td>19.857143</td>\n",
       "    </tr>\n",
       "    <tr>\n",
       "      <th>Ceftamin</th>\n",
       "      <td>45.0</td>\n",
       "      <td>64.132421</td>\n",
       "      <td>2.692308</td>\n",
       "      <td>13.538462</td>\n",
       "      <td>27.615385</td>\n",
       "    </tr>\n",
       "    <tr>\n",
       "      <th>Infubinol</th>\n",
       "      <td>45.0</td>\n",
       "      <td>65.755562</td>\n",
       "      <td>2.111111</td>\n",
       "      <td>18.555556</td>\n",
       "      <td>26.666667</td>\n",
       "    </tr>\n",
       "    <tr>\n",
       "      <th>Ketapril</th>\n",
       "      <td>45.0</td>\n",
       "      <td>70.662958</td>\n",
       "      <td>3.363636</td>\n",
       "      <td>16.272727</td>\n",
       "      <td>27.727273</td>\n",
       "    </tr>\n",
       "  </tbody>\n",
       "</table>\n",
       "</div>"
      ],
      "text/plain": [
       "              Timepoint  Tumor Volume (mm3)  Metastatic Sites  Age_months  \\\n",
       "Drug Regimen                                                                \n",
       "Capomulin          45.0           36.236114          1.476190   12.809524   \n",
       "Ceftamin           45.0           64.132421          2.692308   13.538462   \n",
       "Infubinol          45.0           65.755562          2.111111   18.555556   \n",
       "Ketapril           45.0           70.662958          3.363636   16.272727   \n",
       "\n",
       "              Weight (g)  \n",
       "Drug Regimen              \n",
       "Capomulin      19.857143  \n",
       "Ceftamin       27.615385  \n",
       "Infubinol      26.666667  \n",
       "Ketapril       27.727273  "
      ]
     },
     "execution_count": 27,
     "metadata": {},
     "output_type": "execute_result"
    }
   ],
   "source": [
    "# README instructions - Calculate the final tumor volume of each mouse \n",
    "    # across four of the most promising treatment regimens: \n",
    "        # Capomulin, Ramicane, Infubinol, and Ceftamin. Calculate the quartiles and IQR \n",
    "    # and quantitatively determine if there are any potential outliers across all four treatment regimens.\n",
    "\n",
    "# Select data at last timepoint only. However some effective treatments might not have 45th day of treatment.\n",
    "final_volume_df = clean_df.loc[clean_df['Timepoint'] == 45]\n",
    "\n",
    "# Top 4 most promising drugs could be obtained from the average tumor size:\n",
    "    # (wrong, see correct solution below) Find Top 4 most promising Drug Regimens for treating cancer in mice\n",
    "grouped_final_volume_df = final_volume_df.groupby('Drug Regimen').mean()\n",
    "grouped_final_volume_df.head(4)"
   ]
  },
  {
   "cell_type": "code",
   "execution_count": 28,
   "metadata": {},
   "outputs": [
    {
     "data": {
      "text/html": [
       "<div>\n",
       "<style scoped>\n",
       "    .dataframe tbody tr th:only-of-type {\n",
       "        vertical-align: middle;\n",
       "    }\n",
       "\n",
       "    .dataframe tbody tr th {\n",
       "        vertical-align: top;\n",
       "    }\n",
       "\n",
       "    .dataframe thead th {\n",
       "        text-align: right;\n",
       "    }\n",
       "</style>\n",
       "<table border=\"1\" class=\"dataframe\">\n",
       "  <thead>\n",
       "    <tr style=\"text-align: right;\">\n",
       "      <th></th>\n",
       "      <th></th>\n",
       "      <th></th>\n",
       "      <th>Mouse ID</th>\n",
       "      <th>Timepoint</th>\n",
       "      <th>Tumor Volume (mm3)</th>\n",
       "      <th>Metastatic Sites</th>\n",
       "      <th>Drug Regimen</th>\n",
       "      <th>Sex</th>\n",
       "      <th>Age_months</th>\n",
       "      <th>Weight (g)</th>\n",
       "    </tr>\n",
       "    <tr>\n",
       "      <th>Drug Regimen</th>\n",
       "      <th>Tumor Volume (mm3)</th>\n",
       "      <th></th>\n",
       "      <th></th>\n",
       "      <th></th>\n",
       "      <th></th>\n",
       "      <th></th>\n",
       "      <th></th>\n",
       "      <th></th>\n",
       "      <th></th>\n",
       "      <th></th>\n",
       "    </tr>\n",
       "  </thead>\n",
       "  <tbody>\n",
       "    <tr>\n",
       "      <th rowspan=\"5\" valign=\"top\">Capomulin</th>\n",
       "      <th>23.343598</th>\n",
       "      <th>1849</th>\n",
       "      <td>s185</td>\n",
       "      <td>45</td>\n",
       "      <td>23.343598</td>\n",
       "      <td>1</td>\n",
       "      <td>Capomulin</td>\n",
       "      <td>Female</td>\n",
       "      <td>3</td>\n",
       "      <td>17</td>\n",
       "    </tr>\n",
       "    <tr>\n",
       "      <th>28.430964</th>\n",
       "      <th>1843</th>\n",
       "      <td>m601</td>\n",
       "      <td>45</td>\n",
       "      <td>28.430964</td>\n",
       "      <td>1</td>\n",
       "      <td>Capomulin</td>\n",
       "      <td>Male</td>\n",
       "      <td>22</td>\n",
       "      <td>17</td>\n",
       "    </tr>\n",
       "    <tr>\n",
       "      <th>28.484033</th>\n",
       "      <th>1846</th>\n",
       "      <td>x401</td>\n",
       "      <td>45</td>\n",
       "      <td>28.484033</td>\n",
       "      <td>0</td>\n",
       "      <td>Capomulin</td>\n",
       "      <td>Female</td>\n",
       "      <td>16</td>\n",
       "      <td>15</td>\n",
       "    </tr>\n",
       "    <tr>\n",
       "      <th>31.023923</th>\n",
       "      <th>1889</th>\n",
       "      <td>u364</td>\n",
       "      <td>45</td>\n",
       "      <td>31.023923</td>\n",
       "      <td>3</td>\n",
       "      <td>Capomulin</td>\n",
       "      <td>Male</td>\n",
       "      <td>18</td>\n",
       "      <td>17</td>\n",
       "    </tr>\n",
       "    <tr>\n",
       "      <th>31.896238</th>\n",
       "      <th>1797</th>\n",
       "      <td>y793</td>\n",
       "      <td>45</td>\n",
       "      <td>31.896238</td>\n",
       "      <td>2</td>\n",
       "      <td>Capomulin</td>\n",
       "      <td>Male</td>\n",
       "      <td>17</td>\n",
       "      <td>17</td>\n",
       "    </tr>\n",
       "    <tr>\n",
       "      <th>...</th>\n",
       "      <th>...</th>\n",
       "      <th>...</th>\n",
       "      <td>...</td>\n",
       "      <td>...</td>\n",
       "      <td>...</td>\n",
       "      <td>...</td>\n",
       "      <td>...</td>\n",
       "      <td>...</td>\n",
       "      <td>...</td>\n",
       "      <td>...</td>\n",
       "    </tr>\n",
       "    <tr>\n",
       "      <th rowspan=\"5\" valign=\"top\">Ramicane</th>\n",
       "      <th>36.134852</th>\n",
       "      <th>1828</th>\n",
       "      <td>j989</td>\n",
       "      <td>45</td>\n",
       "      <td>36.134852</td>\n",
       "      <td>1</td>\n",
       "      <td>Ramicane</td>\n",
       "      <td>Male</td>\n",
       "      <td>8</td>\n",
       "      <td>19</td>\n",
       "    </tr>\n",
       "    <tr>\n",
       "      <th>36.374510</th>\n",
       "      <th>1780</th>\n",
       "      <td>i334</td>\n",
       "      <td>45</td>\n",
       "      <td>36.374510</td>\n",
       "      <td>2</td>\n",
       "      <td>Ramicane</td>\n",
       "      <td>Female</td>\n",
       "      <td>8</td>\n",
       "      <td>20</td>\n",
       "    </tr>\n",
       "    <tr>\n",
       "      <th>37.225650</th>\n",
       "      <th>1874</th>\n",
       "      <td>r811</td>\n",
       "      <td>45</td>\n",
       "      <td>37.225650</td>\n",
       "      <td>1</td>\n",
       "      <td>Ramicane</td>\n",
       "      <td>Male</td>\n",
       "      <td>9</td>\n",
       "      <td>19</td>\n",
       "    </tr>\n",
       "    <tr>\n",
       "      <th>37.311236</th>\n",
       "      <th>1844</th>\n",
       "      <td>d251</td>\n",
       "      <td>45</td>\n",
       "      <td>37.311236</td>\n",
       "      <td>2</td>\n",
       "      <td>Ramicane</td>\n",
       "      <td>Female</td>\n",
       "      <td>8</td>\n",
       "      <td>19</td>\n",
       "    </tr>\n",
       "    <tr>\n",
       "      <th>38.407618</th>\n",
       "      <th>1773</th>\n",
       "      <td>a411</td>\n",
       "      <td>45</td>\n",
       "      <td>38.407618</td>\n",
       "      <td>1</td>\n",
       "      <td>Ramicane</td>\n",
       "      <td>Male</td>\n",
       "      <td>3</td>\n",
       "      <td>22</td>\n",
       "    </tr>\n",
       "  </tbody>\n",
       "</table>\n",
       "<p>100 rows × 8 columns</p>\n",
       "</div>"
      ],
      "text/plain": [
       "                                     Mouse ID  Timepoint  Tumor Volume (mm3)  \\\n",
       "Drug Regimen Tumor Volume (mm3)                                                \n",
       "Capomulin    23.343598          1849     s185         45           23.343598   \n",
       "             28.430964          1843     m601         45           28.430964   \n",
       "             28.484033          1846     x401         45           28.484033   \n",
       "             31.023923          1889     u364         45           31.023923   \n",
       "             31.896238          1797     y793         45           31.896238   \n",
       "...                                       ...        ...                 ...   \n",
       "Ramicane     36.134852          1828     j989         45           36.134852   \n",
       "             36.374510          1780     i334         45           36.374510   \n",
       "             37.225650          1874     r811         45           37.225650   \n",
       "             37.311236          1844     d251         45           37.311236   \n",
       "             38.407618          1773     a411         45           38.407618   \n",
       "\n",
       "                                      Metastatic Sites Drug Regimen     Sex  \\\n",
       "Drug Regimen Tumor Volume (mm3)                                               \n",
       "Capomulin    23.343598          1849                 1    Capomulin  Female   \n",
       "             28.430964          1843                 1    Capomulin    Male   \n",
       "             28.484033          1846                 0    Capomulin  Female   \n",
       "             31.023923          1889                 3    Capomulin    Male   \n",
       "             31.896238          1797                 2    Capomulin    Male   \n",
       "...                                                ...          ...     ...   \n",
       "Ramicane     36.134852          1828                 1     Ramicane    Male   \n",
       "             36.374510          1780                 2     Ramicane  Female   \n",
       "             37.225650          1874                 1     Ramicane    Male   \n",
       "             37.311236          1844                 2     Ramicane  Female   \n",
       "             38.407618          1773                 1     Ramicane    Male   \n",
       "\n",
       "                                      Age_months  Weight (g)  \n",
       "Drug Regimen Tumor Volume (mm3)                               \n",
       "Capomulin    23.343598          1849           3          17  \n",
       "             28.430964          1843          22          17  \n",
       "             28.484033          1846          16          15  \n",
       "             31.023923          1889          18          17  \n",
       "             31.896238          1797          17          17  \n",
       "...                                          ...         ...  \n",
       "Ramicane     36.134852          1828           8          19  \n",
       "             36.374510          1780           8          20  \n",
       "             37.225650          1874           9          19  \n",
       "             37.311236          1844           8          19  \n",
       "             38.407618          1773           3          22  \n",
       "\n",
       "[100 rows x 8 columns]"
      ]
     },
     "execution_count": 28,
     "metadata": {},
     "output_type": "execute_result"
    }
   ],
   "source": [
    "# Try again to find the top 4 by sorting the data by Tumor volume\n",
    "sorted_grouped_final_vol_test7_df = final_volume_df.groupby(['Drug Regimen', 'Tumor Volume (mm3)'])\n",
    "lambda_test7_df = sorted_grouped_final_vol_test7_df.apply(lambda x: x.sort_values('Tumor Volume (mm3)'))\n",
    "lambda_test7_df.head(100)"
   ]
  },
  {
   "cell_type": "code",
   "execution_count": 29,
   "metadata": {},
   "outputs": [
    {
     "data": {
      "text/html": [
       "<div>\n",
       "<style scoped>\n",
       "    .dataframe tbody tr th:only-of-type {\n",
       "        vertical-align: middle;\n",
       "    }\n",
       "\n",
       "    .dataframe tbody tr th {\n",
       "        vertical-align: top;\n",
       "    }\n",
       "\n",
       "    .dataframe thead th {\n",
       "        text-align: right;\n",
       "    }\n",
       "</style>\n",
       "<table border=\"1\" class=\"dataframe\">\n",
       "  <thead>\n",
       "    <tr style=\"text-align: right;\">\n",
       "      <th></th>\n",
       "      <th>Timepoint</th>\n",
       "      <th>Tumor Volume (mm3)</th>\n",
       "      <th>Metastatic Sites</th>\n",
       "      <th>Age_months</th>\n",
       "      <th>Weight (g)</th>\n",
       "    </tr>\n",
       "    <tr>\n",
       "      <th>Drug Regimen</th>\n",
       "      <th></th>\n",
       "      <th></th>\n",
       "      <th></th>\n",
       "      <th></th>\n",
       "      <th></th>\n",
       "    </tr>\n",
       "  </thead>\n",
       "  <tbody>\n",
       "    <tr>\n",
       "      <th>Ramicane</th>\n",
       "      <td>45.0</td>\n",
       "      <td>34.955595</td>\n",
       "      <td>1.250000</td>\n",
       "      <td>10.050000</td>\n",
       "      <td>19.300000</td>\n",
       "    </tr>\n",
       "    <tr>\n",
       "      <th>Capomulin</th>\n",
       "      <td>45.0</td>\n",
       "      <td>36.236114</td>\n",
       "      <td>1.476190</td>\n",
       "      <td>12.809524</td>\n",
       "      <td>19.857143</td>\n",
       "    </tr>\n",
       "    <tr>\n",
       "      <th>Ceftamin</th>\n",
       "      <td>45.0</td>\n",
       "      <td>64.132421</td>\n",
       "      <td>2.692308</td>\n",
       "      <td>13.538462</td>\n",
       "      <td>27.615385</td>\n",
       "    </tr>\n",
       "    <tr>\n",
       "      <th>Infubinol</th>\n",
       "      <td>45.0</td>\n",
       "      <td>65.755562</td>\n",
       "      <td>2.111111</td>\n",
       "      <td>18.555556</td>\n",
       "      <td>26.666667</td>\n",
       "    </tr>\n",
       "  </tbody>\n",
       "</table>\n",
       "</div>"
      ],
      "text/plain": [
       "              Timepoint  Tumor Volume (mm3)  Metastatic Sites  Age_months  \\\n",
       "Drug Regimen                                                                \n",
       "Ramicane           45.0           34.955595          1.250000   10.050000   \n",
       "Capomulin          45.0           36.236114          1.476190   12.809524   \n",
       "Ceftamin           45.0           64.132421          2.692308   13.538462   \n",
       "Infubinol          45.0           65.755562          2.111111   18.555556   \n",
       "\n",
       "              Weight (g)  \n",
       "Drug Regimen              \n",
       "Ramicane       19.300000  \n",
       "Capomulin      19.857143  \n",
       "Ceftamin       27.615385  \n",
       "Infubinol      26.666667  "
      ]
     },
     "execution_count": 29,
     "metadata": {},
     "output_type": "execute_result"
    }
   ],
   "source": [
    "# FINAL - Find Top 4 most promising Drug Regimens for treating cancer in mice\n",
    "sorted_grouped_final_vol_test7a_df = final_volume_df.groupby(['Drug Regimen'])\n",
    "\n",
    "mean_sorted_grouped_final_vol_test7a_df = sorted_grouped_final_vol_test7a_df.mean()\n",
    "\n",
    "summary_table2_Top4_MostPromisingDrugs = mean_sorted_grouped_final_vol_test7a_df.sort_values(by='Tumor Volume (mm3)', ascending=True, ignore_index=False)\n",
    "summary_table2_Top4_MostPromisingDrugs.to_csv(\"AnalysisData/Top4_Most_promising_drug_regimens_df.csv\")\n",
    "summary_table2_Top4_MostPromisingDrugs.head(4)"
   ]
  },
  {
   "cell_type": "code",
   "execution_count": 30,
   "metadata": {},
   "outputs": [
    {
     "data": {
      "text/plain": [
       "['Ramicane', 'Capomulin', 'Ceftamin', 'Infubinol']"
      ]
     },
     "execution_count": 30,
     "metadata": {},
     "output_type": "execute_result"
    }
   ],
   "source": [
    "top4_treatment_regimens = summary_table2_Top4_MostPromisingDrugs.index[:4].to_list()\n",
    "top4_treatment_regimens"
   ]
  },
  {
   "cell_type": "code",
   "execution_count": 31,
   "metadata": {},
   "outputs": [],
   "source": [
    "# README Instructions - Calculate the quartiles and IQR and \n",
    "    # quantitatively determine if there are any potential outliers across all four treatment regimens."
   ]
  },
  {
   "cell_type": "code",
   "execution_count": 32,
   "metadata": {},
   "outputs": [
    {
     "name": "stdout",
     "output_type": "stream",
     "text": [
      "The lower quartile of tumor volume is: 45.0\n",
      "The upper quartile of tumor volume is: 56.32407510749999\n",
      "The interquartile range of tumor volume is: 11.324075107499993\n",
      "The the median of tumor volume is: 48.933453655 \n",
      "Values below 28.01388733875001 could be outliers.\n",
      "Values above 73.31018776874998 could be outliers.\n"
     ]
    },
    {
     "data": {
      "text/html": [
       "<div>\n",
       "<style scoped>\n",
       "    .dataframe tbody tr th:only-of-type {\n",
       "        vertical-align: middle;\n",
       "    }\n",
       "\n",
       "    .dataframe tbody tr th {\n",
       "        vertical-align: top;\n",
       "    }\n",
       "\n",
       "    .dataframe thead th {\n",
       "        text-align: right;\n",
       "    }\n",
       "</style>\n",
       "<table border=\"1\" class=\"dataframe\">\n",
       "  <thead>\n",
       "    <tr style=\"text-align: right;\">\n",
       "      <th></th>\n",
       "      <th>Mouse ID</th>\n",
       "      <th>Timepoint</th>\n",
       "      <th>Tumor Volume (mm3)</th>\n",
       "      <th>Metastatic Sites</th>\n",
       "      <th>Drug Regimen</th>\n",
       "      <th>Sex</th>\n",
       "      <th>Age_months</th>\n",
       "      <th>Weight (g)</th>\n",
       "    </tr>\n",
       "  </thead>\n",
       "  <tbody>\n",
       "    <tr>\n",
       "      <th>1605</th>\n",
       "      <td>k403</td>\n",
       "      <td>35</td>\n",
       "      <td>26.546993</td>\n",
       "      <td>1</td>\n",
       "      <td>Ramicane</td>\n",
       "      <td>Male</td>\n",
       "      <td>21</td>\n",
       "      <td>16</td>\n",
       "    </tr>\n",
       "    <tr>\n",
       "      <th>1628</th>\n",
       "      <td>k403</td>\n",
       "      <td>40</td>\n",
       "      <td>24.365505</td>\n",
       "      <td>1</td>\n",
       "      <td>Ramicane</td>\n",
       "      <td>Male</td>\n",
       "      <td>21</td>\n",
       "      <td>16</td>\n",
       "    </tr>\n",
       "    <tr>\n",
       "      <th>1652</th>\n",
       "      <td>s185</td>\n",
       "      <td>40</td>\n",
       "      <td>25.472143</td>\n",
       "      <td>1</td>\n",
       "      <td>Capomulin</td>\n",
       "      <td>Female</td>\n",
       "      <td>3</td>\n",
       "      <td>17</td>\n",
       "    </tr>\n",
       "    <tr>\n",
       "      <th>1690</th>\n",
       "      <td>p189</td>\n",
       "      <td>40</td>\n",
       "      <td>74.106091</td>\n",
       "      <td>4</td>\n",
       "      <td>Ketapril</td>\n",
       "      <td>Male</td>\n",
       "      <td>8</td>\n",
       "      <td>28</td>\n",
       "    </tr>\n",
       "    <tr>\n",
       "      <th>1714</th>\n",
       "      <td>l725</td>\n",
       "      <td>40</td>\n",
       "      <td>73.693494</td>\n",
       "      <td>3</td>\n",
       "      <td>Naftisol</td>\n",
       "      <td>Female</td>\n",
       "      <td>8</td>\n",
       "      <td>26</td>\n",
       "    </tr>\n",
       "    <tr>\n",
       "      <th>1774</th>\n",
       "      <td>p189</td>\n",
       "      <td>45</td>\n",
       "      <td>75.294936</td>\n",
       "      <td>4</td>\n",
       "      <td>Ketapril</td>\n",
       "      <td>Male</td>\n",
       "      <td>8</td>\n",
       "      <td>28</td>\n",
       "    </tr>\n",
       "    <tr>\n",
       "      <th>1775</th>\n",
       "      <td>m650</td>\n",
       "      <td>45</td>\n",
       "      <td>73.901399</td>\n",
       "      <td>4</td>\n",
       "      <td>Ketapril</td>\n",
       "      <td>Male</td>\n",
       "      <td>15</td>\n",
       "      <td>27</td>\n",
       "    </tr>\n",
       "    <tr>\n",
       "      <th>1778</th>\n",
       "      <td>o331</td>\n",
       "      <td>45</td>\n",
       "      <td>78.567014</td>\n",
       "      <td>4</td>\n",
       "      <td>Ketapril</td>\n",
       "      <td>Male</td>\n",
       "      <td>24</td>\n",
       "      <td>30</td>\n",
       "    </tr>\n",
       "    <tr>\n",
       "      <th>1796</th>\n",
       "      <td>h246</td>\n",
       "      <td>45</td>\n",
       "      <td>74.104086</td>\n",
       "      <td>2</td>\n",
       "      <td>Ketapril</td>\n",
       "      <td>Male</td>\n",
       "      <td>13</td>\n",
       "      <td>30</td>\n",
       "    </tr>\n",
       "    <tr>\n",
       "      <th>1803</th>\n",
       "      <td>k382</td>\n",
       "      <td>45</td>\n",
       "      <td>73.715619</td>\n",
       "      <td>4</td>\n",
       "      <td>Ketapril</td>\n",
       "      <td>Male</td>\n",
       "      <td>22</td>\n",
       "      <td>29</td>\n",
       "    </tr>\n",
       "    <tr>\n",
       "      <th>1809</th>\n",
       "      <td>a818</td>\n",
       "      <td>45</td>\n",
       "      <td>74.997764</td>\n",
       "      <td>2</td>\n",
       "      <td>Naftisol</td>\n",
       "      <td>Female</td>\n",
       "      <td>12</td>\n",
       "      <td>28</td>\n",
       "    </tr>\n",
       "    <tr>\n",
       "      <th>1814</th>\n",
       "      <td>k403</td>\n",
       "      <td>45</td>\n",
       "      <td>22.050126</td>\n",
       "      <td>1</td>\n",
       "      <td>Ramicane</td>\n",
       "      <td>Male</td>\n",
       "      <td>21</td>\n",
       "      <td>16</td>\n",
       "    </tr>\n",
       "    <tr>\n",
       "      <th>1820</th>\n",
       "      <td>c402</td>\n",
       "      <td>45</td>\n",
       "      <td>74.040390</td>\n",
       "      <td>3</td>\n",
       "      <td>Stelasyn</td>\n",
       "      <td>Female</td>\n",
       "      <td>1</td>\n",
       "      <td>27</td>\n",
       "    </tr>\n",
       "    <tr>\n",
       "      <th>1830</th>\n",
       "      <td>m269</td>\n",
       "      <td>45</td>\n",
       "      <td>75.123690</td>\n",
       "      <td>1</td>\n",
       "      <td>Stelasyn</td>\n",
       "      <td>Female</td>\n",
       "      <td>22</td>\n",
       "      <td>28</td>\n",
       "    </tr>\n",
       "    <tr>\n",
       "      <th>1840</th>\n",
       "      <td>f545</td>\n",
       "      <td>45</td>\n",
       "      <td>73.324432</td>\n",
       "      <td>1</td>\n",
       "      <td>Zoniferol</td>\n",
       "      <td>Female</td>\n",
       "      <td>20</td>\n",
       "      <td>26</td>\n",
       "    </tr>\n",
       "    <tr>\n",
       "      <th>1849</th>\n",
       "      <td>s185</td>\n",
       "      <td>45</td>\n",
       "      <td>23.343598</td>\n",
       "      <td>1</td>\n",
       "      <td>Capomulin</td>\n",
       "      <td>Female</td>\n",
       "      <td>3</td>\n",
       "      <td>17</td>\n",
       "    </tr>\n",
       "    <tr>\n",
       "      <th>1853</th>\n",
       "      <td>t724</td>\n",
       "      <td>45</td>\n",
       "      <td>75.113288</td>\n",
       "      <td>2</td>\n",
       "      <td>Naftisol</td>\n",
       "      <td>Female</td>\n",
       "      <td>2</td>\n",
       "      <td>25</td>\n",
       "    </tr>\n",
       "    <tr>\n",
       "      <th>1861</th>\n",
       "      <td>l725</td>\n",
       "      <td>45</td>\n",
       "      <td>76.668817</td>\n",
       "      <td>3</td>\n",
       "      <td>Naftisol</td>\n",
       "      <td>Female</td>\n",
       "      <td>8</td>\n",
       "      <td>26</td>\n",
       "    </tr>\n",
       "    <tr>\n",
       "      <th>1869</th>\n",
       "      <td>z969</td>\n",
       "      <td>45</td>\n",
       "      <td>73.867845</td>\n",
       "      <td>4</td>\n",
       "      <td>Naftisol</td>\n",
       "      <td>Male</td>\n",
       "      <td>9</td>\n",
       "      <td>30</td>\n",
       "    </tr>\n",
       "  </tbody>\n",
       "</table>\n",
       "</div>"
      ],
      "text/plain": [
       "     Mouse ID  Timepoint  Tumor Volume (mm3)  Metastatic Sites Drug Regimen  \\\n",
       "1605     k403         35           26.546993                 1     Ramicane   \n",
       "1628     k403         40           24.365505                 1     Ramicane   \n",
       "1652     s185         40           25.472143                 1    Capomulin   \n",
       "1690     p189         40           74.106091                 4     Ketapril   \n",
       "1714     l725         40           73.693494                 3     Naftisol   \n",
       "1774     p189         45           75.294936                 4     Ketapril   \n",
       "1775     m650         45           73.901399                 4     Ketapril   \n",
       "1778     o331         45           78.567014                 4     Ketapril   \n",
       "1796     h246         45           74.104086                 2     Ketapril   \n",
       "1803     k382         45           73.715619                 4     Ketapril   \n",
       "1809     a818         45           74.997764                 2     Naftisol   \n",
       "1814     k403         45           22.050126                 1     Ramicane   \n",
       "1820     c402         45           74.040390                 3     Stelasyn   \n",
       "1830     m269         45           75.123690                 1     Stelasyn   \n",
       "1840     f545         45           73.324432                 1    Zoniferol   \n",
       "1849     s185         45           23.343598                 1    Capomulin   \n",
       "1853     t724         45           75.113288                 2     Naftisol   \n",
       "1861     l725         45           76.668817                 3     Naftisol   \n",
       "1869     z969         45           73.867845                 4     Naftisol   \n",
       "\n",
       "         Sex  Age_months  Weight (g)  \n",
       "1605    Male          21          16  \n",
       "1628    Male          21          16  \n",
       "1652  Female           3          17  \n",
       "1690    Male           8          28  \n",
       "1714  Female           8          26  \n",
       "1774    Male           8          28  \n",
       "1775    Male          15          27  \n",
       "1778    Male          24          30  \n",
       "1796    Male          13          30  \n",
       "1803    Male          22          29  \n",
       "1809  Female          12          28  \n",
       "1814    Male          21          16  \n",
       "1820  Female           1          27  \n",
       "1830  Female          22          28  \n",
       "1840  Female          20          26  \n",
       "1849  Female           3          17  \n",
       "1853  Female           2          25  \n",
       "1861  Female           8          26  \n",
       "1869    Male           9          30  "
      ]
     },
     "execution_count": 32,
     "metadata": {},
     "output_type": "execute_result"
    }
   ],
   "source": [
    "# Determine if there are any potential outliers in the drug regimen data\n",
    "quartiles = clean_df['Tumor Volume (mm3)'].quantile([.25,.5,.75])\n",
    "quartiles\n",
    "lowerq = quartiles[0.25]\n",
    "upperq = quartiles[0.75]\n",
    "iqr = upperq-lowerq\n",
    "\n",
    "print(f\"The lower quartile of tumor volume is: {lowerq}\")\n",
    "print(f\"The upper quartile of tumor volume is: {upperq}\")\n",
    "print(f\"The interquartile range of tumor volume is: {iqr}\")\n",
    "print(f\"The the median of tumor volume is: {quartiles[0.5]} \")\n",
    "\n",
    "lower_bound = lowerq - (1.5*iqr)\n",
    "upper_bound = upperq + (1.5*iqr)\n",
    "print(f\"Values below {lower_bound} could be outliers.\")\n",
    "print(f\"Values above {upper_bound} could be outliers.\")\n",
    "\n",
    "outlier_tumor_volume = clean_df.loc[(clean_df['Tumor Volume (mm3)'] < lower_bound) \\\n",
    "                                        | (clean_df['Tumor Volume (mm3)'] > upper_bound)]\n",
    "outlier_tumor_volume"
   ]
  },
  {
   "cell_type": "code",
   "execution_count": 33,
   "metadata": {},
   "outputs": [
    {
     "data": {
      "text/html": [
       "<div>\n",
       "<style scoped>\n",
       "    .dataframe tbody tr th:only-of-type {\n",
       "        vertical-align: middle;\n",
       "    }\n",
       "\n",
       "    .dataframe tbody tr th {\n",
       "        vertical-align: top;\n",
       "    }\n",
       "\n",
       "    .dataframe thead th {\n",
       "        text-align: right;\n",
       "    }\n",
       "</style>\n",
       "<table border=\"1\" class=\"dataframe\">\n",
       "  <thead>\n",
       "    <tr style=\"text-align: right;\">\n",
       "      <th></th>\n",
       "      <th>Drug Regimen</th>\n",
       "      <th>Mouse ID</th>\n",
       "      <th>Timepoint</th>\n",
       "      <th>Tumor Volume (mm3)</th>\n",
       "      <th>Metastatic Sites</th>\n",
       "      <th>Age_months</th>\n",
       "      <th>Weight (g)</th>\n",
       "    </tr>\n",
       "  </thead>\n",
       "  <tbody>\n",
       "    <tr>\n",
       "      <th>0</th>\n",
       "      <td>Capomulin</td>\n",
       "      <td>s185</td>\n",
       "      <td>42.5</td>\n",
       "      <td>24.407871</td>\n",
       "      <td>1.0</td>\n",
       "      <td>3.0</td>\n",
       "      <td>17.0</td>\n",
       "    </tr>\n",
       "    <tr>\n",
       "      <th>1</th>\n",
       "      <td>Ketapril</td>\n",
       "      <td>h246</td>\n",
       "      <td>45.0</td>\n",
       "      <td>74.104086</td>\n",
       "      <td>2.0</td>\n",
       "      <td>13.0</td>\n",
       "      <td>30.0</td>\n",
       "    </tr>\n",
       "    <tr>\n",
       "      <th>2</th>\n",
       "      <td>Ketapril</td>\n",
       "      <td>k382</td>\n",
       "      <td>45.0</td>\n",
       "      <td>73.715619</td>\n",
       "      <td>4.0</td>\n",
       "      <td>22.0</td>\n",
       "      <td>29.0</td>\n",
       "    </tr>\n",
       "    <tr>\n",
       "      <th>3</th>\n",
       "      <td>Ketapril</td>\n",
       "      <td>m650</td>\n",
       "      <td>45.0</td>\n",
       "      <td>73.901399</td>\n",
       "      <td>4.0</td>\n",
       "      <td>15.0</td>\n",
       "      <td>27.0</td>\n",
       "    </tr>\n",
       "    <tr>\n",
       "      <th>4</th>\n",
       "      <td>Ketapril</td>\n",
       "      <td>o331</td>\n",
       "      <td>45.0</td>\n",
       "      <td>78.567014</td>\n",
       "      <td>4.0</td>\n",
       "      <td>24.0</td>\n",
       "      <td>30.0</td>\n",
       "    </tr>\n",
       "    <tr>\n",
       "      <th>5</th>\n",
       "      <td>Ketapril</td>\n",
       "      <td>p189</td>\n",
       "      <td>42.5</td>\n",
       "      <td>74.700513</td>\n",
       "      <td>4.0</td>\n",
       "      <td>8.0</td>\n",
       "      <td>28.0</td>\n",
       "    </tr>\n",
       "    <tr>\n",
       "      <th>6</th>\n",
       "      <td>Naftisol</td>\n",
       "      <td>a818</td>\n",
       "      <td>45.0</td>\n",
       "      <td>74.997764</td>\n",
       "      <td>2.0</td>\n",
       "      <td>12.0</td>\n",
       "      <td>28.0</td>\n",
       "    </tr>\n",
       "    <tr>\n",
       "      <th>7</th>\n",
       "      <td>Naftisol</td>\n",
       "      <td>l725</td>\n",
       "      <td>42.5</td>\n",
       "      <td>75.181156</td>\n",
       "      <td>3.0</td>\n",
       "      <td>8.0</td>\n",
       "      <td>26.0</td>\n",
       "    </tr>\n",
       "    <tr>\n",
       "      <th>8</th>\n",
       "      <td>Naftisol</td>\n",
       "      <td>t724</td>\n",
       "      <td>45.0</td>\n",
       "      <td>75.113288</td>\n",
       "      <td>2.0</td>\n",
       "      <td>2.0</td>\n",
       "      <td>25.0</td>\n",
       "    </tr>\n",
       "    <tr>\n",
       "      <th>9</th>\n",
       "      <td>Naftisol</td>\n",
       "      <td>z969</td>\n",
       "      <td>45.0</td>\n",
       "      <td>73.867845</td>\n",
       "      <td>4.0</td>\n",
       "      <td>9.0</td>\n",
       "      <td>30.0</td>\n",
       "    </tr>\n",
       "    <tr>\n",
       "      <th>10</th>\n",
       "      <td>Ramicane</td>\n",
       "      <td>k403</td>\n",
       "      <td>40.0</td>\n",
       "      <td>24.320875</td>\n",
       "      <td>1.0</td>\n",
       "      <td>21.0</td>\n",
       "      <td>16.0</td>\n",
       "    </tr>\n",
       "    <tr>\n",
       "      <th>11</th>\n",
       "      <td>Stelasyn</td>\n",
       "      <td>c402</td>\n",
       "      <td>45.0</td>\n",
       "      <td>74.040390</td>\n",
       "      <td>3.0</td>\n",
       "      <td>1.0</td>\n",
       "      <td>27.0</td>\n",
       "    </tr>\n",
       "    <tr>\n",
       "      <th>12</th>\n",
       "      <td>Stelasyn</td>\n",
       "      <td>m269</td>\n",
       "      <td>45.0</td>\n",
       "      <td>75.123690</td>\n",
       "      <td>1.0</td>\n",
       "      <td>22.0</td>\n",
       "      <td>28.0</td>\n",
       "    </tr>\n",
       "    <tr>\n",
       "      <th>13</th>\n",
       "      <td>Zoniferol</td>\n",
       "      <td>f545</td>\n",
       "      <td>45.0</td>\n",
       "      <td>73.324432</td>\n",
       "      <td>1.0</td>\n",
       "      <td>20.0</td>\n",
       "      <td>26.0</td>\n",
       "    </tr>\n",
       "  </tbody>\n",
       "</table>\n",
       "</div>"
      ],
      "text/plain": [
       "   Drug Regimen Mouse ID  Timepoint  Tumor Volume (mm3)  Metastatic Sites  \\\n",
       "0     Capomulin     s185       42.5           24.407871               1.0   \n",
       "1      Ketapril     h246       45.0           74.104086               2.0   \n",
       "2      Ketapril     k382       45.0           73.715619               4.0   \n",
       "3      Ketapril     m650       45.0           73.901399               4.0   \n",
       "4      Ketapril     o331       45.0           78.567014               4.0   \n",
       "5      Ketapril     p189       42.5           74.700513               4.0   \n",
       "6      Naftisol     a818       45.0           74.997764               2.0   \n",
       "7      Naftisol     l725       42.5           75.181156               3.0   \n",
       "8      Naftisol     t724       45.0           75.113288               2.0   \n",
       "9      Naftisol     z969       45.0           73.867845               4.0   \n",
       "10     Ramicane     k403       40.0           24.320875               1.0   \n",
       "11     Stelasyn     c402       45.0           74.040390               3.0   \n",
       "12     Stelasyn     m269       45.0           75.123690               1.0   \n",
       "13    Zoniferol     f545       45.0           73.324432               1.0   \n",
       "\n",
       "    Age_months  Weight (g)  \n",
       "0          3.0        17.0  \n",
       "1         13.0        30.0  \n",
       "2         22.0        29.0  \n",
       "3         15.0        27.0  \n",
       "4         24.0        30.0  \n",
       "5          8.0        28.0  \n",
       "6         12.0        28.0  \n",
       "7          8.0        26.0  \n",
       "8          2.0        25.0  \n",
       "9          9.0        30.0  \n",
       "10        21.0        16.0  \n",
       "11         1.0        27.0  \n",
       "12        22.0        28.0  \n",
       "13        20.0        26.0  "
      ]
     },
     "execution_count": 33,
     "metadata": {},
     "output_type": "execute_result"
    }
   ],
   "source": [
    "grouped_outlier_tumor_volume = outlier_tumor_volume.groupby(['Drug Regimen', 'Mouse ID']).mean().reset_index()\n",
    "grouped_outlier_tumor_volume.head(30)"
   ]
  },
  {
   "cell_type": "code",
   "execution_count": 34,
   "metadata": {},
   "outputs": [
    {
     "data": {
      "text/plain": [
       "['Ramicane', 'Capomulin', 'Ceftamin', 'Infubinol']"
      ]
     },
     "execution_count": 34,
     "metadata": {},
     "output_type": "execute_result"
    }
   ],
   "source": [
    "top4_treatment_regimens = summary_table2_Top4_MostPromisingDrugs.index[:4].to_list()\n",
    "top4_treatment_regimens"
   ]
  },
  {
   "cell_type": "code",
   "execution_count": 35,
   "metadata": {},
   "outputs": [
    {
     "data": {
      "text/plain": [
       "array(['Capomulin', 'Ketapril', 'Naftisol', 'Ramicane', 'Stelasyn',\n",
       "       'Zoniferol'], dtype=object)"
      ]
     },
     "execution_count": 35,
     "metadata": {},
     "output_type": "execute_result"
    }
   ],
   "source": [
    "outlier_within_top4 = grouped_outlier_tumor_volume['Drug Regimen']\n",
    "unique_outliers_arr = outlier_within_top4.unique()\n",
    "unique_outliers_arr"
   ]
  },
  {
   "cell_type": "code",
   "execution_count": 36,
   "metadata": {},
   "outputs": [
    {
     "name": "stdout",
     "output_type": "stream",
     "text": [
      "0\n",
      "1\n",
      "There are 2 drug regimens with at least one outlier, among the top 4 most promising drugs identified earlier:      ['Ramicane', 'Capomulin']\n"
     ]
    }
   ],
   "source": [
    "outlier_within_top4 = []\n",
    "for x in range(len(top4_treatment_regimens)):\n",
    "    if top4_treatment_regimens[x] in unique_outliers_arr:\n",
    "        print(x)\n",
    "        outlier_within_top4.append(top4_treatment_regimens[x])\n",
    "print(f\"There are 2 drug regimens with at least one outlier, among the top 4 most promising drugs identified earlier:\\\n",
    "      {outlier_within_top4}\")"
   ]
  },
  {
   "cell_type": "code",
   "execution_count": 37,
   "metadata": {},
   "outputs": [],
   "source": [
    "# README Instructions - Using Matplotlib, generate a box and whisker plot of the final tumor volume \n",
    "    # for all four treatment regimens \n",
    "    # and highlight any potential outliers in the plot by changing their color and style."
   ]
  },
  {
   "cell_type": "code",
   "execution_count": 38,
   "metadata": {},
   "outputs": [
    {
     "data": {
      "text/html": [
       "<div>\n",
       "<style scoped>\n",
       "    .dataframe tbody tr th:only-of-type {\n",
       "        vertical-align: middle;\n",
       "    }\n",
       "\n",
       "    .dataframe tbody tr th {\n",
       "        vertical-align: top;\n",
       "    }\n",
       "\n",
       "    .dataframe thead th {\n",
       "        text-align: right;\n",
       "    }\n",
       "</style>\n",
       "<table border=\"1\" class=\"dataframe\">\n",
       "  <thead>\n",
       "    <tr style=\"text-align: right;\">\n",
       "      <th></th>\n",
       "      <th>Timepoint</th>\n",
       "      <th>Tumor Volume (mm3) Capomulin</th>\n",
       "    </tr>\n",
       "  </thead>\n",
       "  <tbody>\n",
       "    <tr>\n",
       "      <th>0</th>\n",
       "      <td>0</td>\n",
       "      <td>45.000000</td>\n",
       "    </tr>\n",
       "    <tr>\n",
       "      <th>226</th>\n",
       "      <td>0</td>\n",
       "      <td>45.000000</td>\n",
       "    </tr>\n",
       "    <tr>\n",
       "      <th>227</th>\n",
       "      <td>0</td>\n",
       "      <td>45.000000</td>\n",
       "    </tr>\n",
       "    <tr>\n",
       "      <th>228</th>\n",
       "      <td>0</td>\n",
       "      <td>45.000000</td>\n",
       "    </tr>\n",
       "    <tr>\n",
       "      <th>229</th>\n",
       "      <td>0</td>\n",
       "      <td>45.000000</td>\n",
       "    </tr>\n",
       "    <tr>\n",
       "      <th>...</th>\n",
       "      <td>...</td>\n",
       "      <td>...</td>\n",
       "    </tr>\n",
       "    <tr>\n",
       "      <th>1854</th>\n",
       "      <td>45</td>\n",
       "      <td>40.728578</td>\n",
       "    </tr>\n",
       "    <tr>\n",
       "      <th>1859</th>\n",
       "      <td>45</td>\n",
       "      <td>38.125164</td>\n",
       "    </tr>\n",
       "    <tr>\n",
       "      <th>1878</th>\n",
       "      <td>45</td>\n",
       "      <td>47.685963</td>\n",
       "    </tr>\n",
       "    <tr>\n",
       "      <th>1888</th>\n",
       "      <td>45</td>\n",
       "      <td>41.581521</td>\n",
       "    </tr>\n",
       "    <tr>\n",
       "      <th>1889</th>\n",
       "      <td>45</td>\n",
       "      <td>31.023923</td>\n",
       "    </tr>\n",
       "  </tbody>\n",
       "</table>\n",
       "<p>230 rows × 2 columns</p>\n",
       "</div>"
      ],
      "text/plain": [
       "      Timepoint  Tumor Volume (mm3) Capomulin\n",
       "0             0                     45.000000\n",
       "226           0                     45.000000\n",
       "227           0                     45.000000\n",
       "228           0                     45.000000\n",
       "229           0                     45.000000\n",
       "...         ...                           ...\n",
       "1854         45                     40.728578\n",
       "1859         45                     38.125164\n",
       "1878         45                     47.685963\n",
       "1888         45                     41.581521\n",
       "1889         45                     31.023923\n",
       "\n",
       "[230 rows x 2 columns]"
      ]
     },
     "execution_count": 38,
     "metadata": {},
     "output_type": "execute_result"
    }
   ],
   "source": [
    "# Prepare a new df to work on the statistics part\n",
    "# NOTE: for a single hard-coded drug at first:\n",
    "tumor_volume_df = clean_df[['Mouse ID', 'Drug Regimen', 'Timepoint', 'Tumor Volume (mm3)']]\n",
    "# Grouped by the 'Drug Regimen' and \"Timepoint\"\n",
    "grouped_tumor_volume_df = tumor_volume_df.groupby(['Drug Regimen', 'Timepoint'])\n",
    "# Reset index and sort values in descending order:\n",
    "sorted_noindex_mean_grouped_tumor_volume_df = grouped_tumor_volume_df.mean().reset_index().sort_values(['Tumor Volume (mm3)'], ascending=False)\n",
    "# Try to use loc function to extract the data only for Capomulin drug regimen.\n",
    "drug1_Capomulin = clean_df.loc[clean_df['Drug Regimen'] == 'Capomulin']\n",
    "# Select only Tumor Volume and Timpoint columns\n",
    "drug1_Capomulin_filtered = drug1_Capomulin[['Timepoint', 'Tumor Volume (mm3)']]\n",
    "# Group by Timepoint\n",
    "drug1_Capomulin_filtered_grouped = drug1_Capomulin_filtered.groupby('Timepoint')\n",
    "# Mean of group by object and rename the column of the filtered\n",
    "drug1_Capomulin_filtered_grouped.mean()\n",
    "drug1_Capomulin_filtered.rename(columns={'Tumor Volume (mm3)': 'Tumor Volume (mm3) Capomulin'})\n"
   ]
  },
  {
   "cell_type": "code",
   "execution_count": 39,
   "metadata": {},
   "outputs": [
    {
     "data": {
      "image/png": "[encoded data removed]",
      "text/plain": [
       "<Figure size 432x288 with 1 Axes>"
      ]
     },
     "metadata": {
      "needs_background": "light"
     },
     "output_type": "display_data"
    }
   ],
   "source": [
    "# From Instructions - README:\n",
    "# Calculate the final tumor volume of each mouse \n",
    "    # across four of the most promising treatment regimens: \n",
    "        #Capomulin, Ramicane, Infubinol, and Ceftamin. \n",
    "        \n",
    "# Calculate the quartiles and IQR and quantitatively determine \n",
    "    # if there are any potential outliers across all four treatment regimens.\n",
    "\n",
    "# Create a single plot for Capomulin drug:    \n",
    "tumor_volume = drug1_Capomulin_filtered['Tumor Volume (mm3)']\n",
    "tumor_volume\n",
    "\n",
    "fig1, ax1 = plt.subplots()\n",
    "ax1.set_title('Tumor Volume (mm3) - Capomulin')\n",
    "ax1.set_ylabel('Timepoints y axis')\n",
    "ax1.boxplot(tumor_volume)\n",
    "plt.show()"
   ]
  },
  {
   "cell_type": "code",
   "execution_count": 40,
   "metadata": {},
   "outputs": [
    {
     "name": "stdout",
     "output_type": "stream",
     "text": [
      "From the box and whiskers plots below, there are few outliers detected:\n",
      " - \"Capomulin\", \"Propriva\", \"Ramicane\", \"Stelasyn\"\n",
      "====================================================================================================\n",
      "Note: ['Ramicane', 'Capomulin'] are listed in the top 4 most promising drugs, but both have outliers.\n",
      "====================================================================================================\n"
     ]
    },
    {
     "data": {
      "image/png": "[encoded data removed]",
      "text/plain": [
       "<Figure size 432x288 with 1 Axes>"
      ]
     },
     "metadata": {
      "needs_background": "light"
     },
     "output_type": "display_data"
    },
    {
     "data": {
      "image/png": "[encoded data removed]",
      "text/plain": [
       "<Figure size 432x288 with 1 Axes>"
      ]
     },
     "metadata": {
      "needs_background": "light"
     },
     "output_type": "display_data"
    },
    {
     "data": {
      "image/png": "[encoded data removed]",
      "text/plain": [
       "<Figure size 432x288 with 1 Axes>"
      ]
     },
     "metadata": {
      "needs_background": "light"
     },
     "output_type": "display_data"
    },
    {
     "data": {
      "image/png": "[encoded data removed]",
      "text/plain": [
       "<Figure size 432x288 with 1 Axes>"
      ]
     },
     "metadata": {
      "needs_background": "light"
     },
     "output_type": "display_data"
    },
    {
     "data": {
      "image/png": "[encoded data removed]",
      "text/plain": [
       "<Figure size 432x288 with 1 Axes>"
      ]
     },
     "metadata": {
      "needs_background": "light"
     },
     "output_type": "display_data"
    },
    {
     "data": {
      "image/png": "[encoded data removed]",
      "text/plain": [
       "<Figure size 432x288 with 1 Axes>"
      ]
     },
     "metadata": {
      "needs_background": "light"
     },
     "output_type": "display_data"
    },
    {
     "data": {
      "image/png": "[encoded data removed]",
      "text/plain": [
       "<Figure size 432x288 with 1 Axes>"
      ]
     },
     "metadata": {
      "needs_background": "light"
     },
     "output_type": "display_data"
    },
    {
     "data": {
      "image/png": "[encoded data removed]",
      "text/plain": [
       "<Figure size 432x288 with 1 Axes>"
      ]
     },
     "metadata": {
      "needs_background": "light"
     },
     "output_type": "display_data"
    },
    {
     "data": {
      "image/png": "[encoded data removed]",
      "text/plain": [
       "<Figure size 432x288 with 1 Axes>"
      ]
     },
     "metadata": {
      "needs_background": "light"
     },
     "output_type": "display_data"
    },
    {
     "data": {
      "image/png": "[encoded data removed]",
      "text/plain": [
       "<Figure size 432x288 with 1 Axes>"
      ]
     },
     "metadata": {
      "needs_background": "light"
     },
     "output_type": "display_data"
    }
   ],
   "source": [
    "# Create a for loop to iterate over drug list and generate box and whiskers plot for each of the drug regimens. Also .loc clean_df to only use data with Timepoint=45 (at the end of the treatment)\n",
    "print(f\"From the box and whiskers plots below, there are few outliers detected:\")\n",
    "print(f' - \"Capomulin\", \"Propriva\", \"Ramicane\", \"Stelasyn\"')\n",
    "print('====================================================================================================')\n",
    "print(f\"Note: {outlier_within_top4} are listed in the top 4 most promising drugs, but both have outliers.\")\n",
    "print('====================================================================================================')\n",
    "\n",
    "drug_list = summary_table1.index.tolist()\n",
    "#print(drug_list)\n",
    "for x in range(len(drug_list)):\n",
    "    drug_name = drug_list[x]\n",
    "    #print(drug_name)\n",
    "    drug_name_df = clean_df.loc[clean_df[\"Drug Regimen\"] == drug_name]\n",
    "    plot_title = f\"{drug_name} - Mice Count vs. Timepoint\"\n",
    "    #print(plot_title)\n",
    "    filtered_drug_name_df = drug_name_df[['Timepoint', 'Tumor Volume (mm3)']]\n",
    "#filetered_drug_name_df    \n",
    "    grouped_filt_drug_name_df = filtered_drug_name_df.groupby('Timepoint')\n",
    "#grouped_filt_drug_name_df\n",
    "    mean_grouped_filt_drug_df = grouped_filt_drug_name_df.mean()\n",
    "#mean_grouped_filt_drug_df    \n",
    "    renamed_mean_grouped_df = mean_grouped_filt_drug_df.rename(columns={'Tumor Volume (mm3)': (f\"Tumor Volume (mm3), {drug_name}\")})\n",
    "#renamed_mean_grouped_df\n",
    "    # option 2\n",
    "    tumor_volume = drug_name_df['Tumor Volume (mm3)']\n",
    "# tumor_volume\n",
    "\n",
    "    # Create df based one the clean_df using .loc method to extract only the Timepoint == 45, as final tumor volume\n",
    "    final_tumor_vol_df = drug_name_df.loc[clean_df['Timepoint'] == 45]\n",
    "    grouped_final_tumor_vol_df = final_tumor_vol_df.groupby('Mouse ID')\n",
    "#grouped_final_tumor_vol_df    \n",
    "    mean_grouped_final_drug = grouped_final_tumor_vol_df.mean()\n",
    "    renamed_mean_grouped_final_df = mean_grouped_final_drug.rename(columns={'Tumor Volume (mm3)': (f\"Tumor Volume (mm3), {drug_name}\"),\n",
    "                                                                            'Timepoint': (f\"Timepoint, {drug_name}\"),\n",
    "                                                                            'Metastatic Sites': (f\"Metastatic Sites, {drug_name}\"),\n",
    "                                                                            'Age_months': (f\"Age_months, {drug_name}\"),\n",
    "                                                                            'Weight (g)': (f\"Weight (g), {drug_name}\")})\n",
    "\n",
    "#renamed_mean_grouped_final_df\n",
    "    \n",
    "\n",
    "    fig1, ax1 = plt.subplots()\n",
    "    ax1.set_title(f'Tumor Volume (mm3) - {drug_name}')\n",
    "    ax1.set_ylabel('Timepoints y axis')\n",
    "    ax1.boxplot(tumor_volume)\n",
    "    plt.savefig(f\"AnalysisData/Box_and_Whiskers_plot {drug_name}.png\")\n",
    "    plt.show()"
   ]
  },
  {
   "cell_type": "code",
   "execution_count": 41,
   "metadata": {},
   "outputs": [
    {
     "name": "stdout",
     "output_type": "stream",
     "text": [
      "['Ramicane', 'Capomulin', 'Ceftamin', 'Infubinol']\n"
     ]
    }
   ],
   "source": [
    "# README Instructions - All four box plots should be within the same figure. \n",
    "    # Use this [Matplotlib documentation page]\n",
    "        # (https://matplotlib.org/gallery/pyplots/boxplot_demo_pyplot.html\n",
    "        # sphx-glr-gallery-pyplots-boxplot-demo-pyplot-py)\n",
    "# test_box_plot for Ramicane ONLY:\n",
    "print(top4_treatment_regimens)\n",
    "box_plot_df = clean_df.loc[clean_df['Drug Regimen'] == outlier_within_top4[0]]\n",
    "box_plot_df1 = box_plot_df['Tumor Volume (mm3)']"
   ]
  },
  {
   "cell_type": "code",
   "execution_count": 42,
   "metadata": {},
   "outputs": [
    {
     "data": {
      "image/png": "[encoded data removed]",
      "text/plain": [
       "<Figure size 432x288 with 1 Axes>"
      ]
     },
     "metadata": {
      "needs_background": "light"
     },
     "output_type": "display_data"
    },
    {
     "data": {
      "image/png": "[encoded data removed]",
      "text/plain": [
       "<Figure size 432x288 with 1 Axes>"
      ]
     },
     "metadata": {
      "needs_background": "light"
     },
     "output_type": "display_data"
    },
    {
     "data": {
      "image/png": "[encoded data removed]",
      "text/plain": [
       "<Figure size 432x288 with 1 Axes>"
      ]
     },
     "metadata": {
      "needs_background": "light"
     },
     "output_type": "display_data"
    },
    {
     "data": {
      "image/png": "[encoded data removed]",
      "text/plain": [
       "<Figure size 432x288 with 1 Axes>"
      ]
     },
     "metadata": {
      "needs_background": "light"
     },
     "output_type": "display_data"
    }
   ],
   "source": [
    "# Reuse code above to limit the loop to the top 4 drugs\n",
    "drug_list = summary_table1.index.tolist()\n",
    "\n",
    "for x in range(len(top4_treatment_regimens)):\n",
    "    drug_name = top4_treatment_regimens[x]\n",
    "    drug_name_df = clean_df.loc[clean_df[\"Drug Regimen\"] == drug_name]\n",
    "    plot_title = f\"{drug_name} - Mice Count vs. Timepoint\"\n",
    "    filtered_drug_name_df = drug_name_df[['Timepoint', 'Tumor Volume (mm3)']]\n",
    "    grouped_filt_drug_name_df = filtered_drug_name_df.groupby('Timepoint')\n",
    "    mean_grouped_filt_drug_df = grouped_filt_drug_name_df.mean()\n",
    "    renamed_mean_grouped_df = mean_grouped_filt_drug_df.rename(columns={'Tumor Volume (mm3)': (f\"Tumor Volume (mm3), {drug_name}\")})\n",
    "    # option 2\n",
    "    tumor_volume = drug_name_df['Tumor Volume (mm3)']\n",
    "# Create df based one the clean_df using .loc method to extract only the Timepoint == 45, as final tumor volume\n",
    "    final_tumor_vol_df = drug_name_df.loc[clean_df['Timepoint'] == 45]\n",
    "    grouped_final_tumor_vol_df = final_tumor_vol_df.groupby('Mouse ID')\n",
    "# grouped_final_tumor_vol_df    \n",
    "    mean_grouped_final_drug = grouped_final_tumor_vol_df.mean()\n",
    "    renamed_mean_grouped_final_df = mean_grouped_final_drug.rename(columns={'Tumor Volume (mm3)': (f\"Tumor Volume (mm3), {drug_name}\"),\n",
    "                                                                            'Timepoint': (f\"Timepoint, {drug_name}\"),\n",
    "                                                                            'Metastatic Sites': (f\"Metastatic Sites, {drug_name}\"),\n",
    "                                                                            'Age_months': (f\"Age_months, {drug_name}\"),\n",
    "                                                                            'Weight (g)': (f\"Weight (g), {drug_name}\")})    \n",
    "\n",
    "    fig1, ax1 = plt.subplots()\n",
    "    ax1.set_title(f'Tumor Volume (mm3) - {drug_name}')\n",
    "    ax1.set_ylabel('Timepoints y axis')\n",
    "    ax1.boxplot(tumor_volume)\n",
    "    plt.savefig(f\"AnalysisData/Box_and_Whiskers_plot {drug_name}.png\")\n",
    "    plt.show()"
   ]
  },
  {
   "cell_type": "code",
   "execution_count": 43,
   "metadata": {},
   "outputs": [],
   "source": [
    "# Prepare data for a combined box and whiskers plots for the top 4 most promising drug regimens\n",
    "tumor_vol_ramicane = clean_df.loc[clean_df['Drug Regimen'] == 'Ramicane']\n",
    "tumor_vol_capomulin = clean_df.loc[clean_df['Drug Regimen'] == 'Capomulin']\n",
    "tumor_vol_ceftamin = clean_df.loc[clean_df['Drug Regimen'] == 'Ceftamin']\n",
    "tumor_vol_infubinol = clean_df.loc[clean_df['Drug Regimen'] == 'Infubinol']\n",
    "\n",
    "tumor_vol_ramicane = tumor_vol_ramicane[['Tumor Volume (mm3)']]\n",
    "tumor_vol_capomulin = tumor_vol_capomulin[['Tumor Volume (mm3)']]\n",
    "tumor_vol_ceftamin = tumor_vol_ceftamin[['Tumor Volume (mm3)']]\n",
    "tumor_vol_infubinol = tumor_vol_infubinol[['Tumor Volume (mm3)']]\n",
    "\n",
    "tumor_vol_ramicane_list = tumor_vol_ramicane['Tumor Volume (mm3)'].tolist()\n",
    "tumor_vol_capomulin_list = tumor_vol_capomulin['Tumor Volume (mm3)'].tolist()\n",
    "tumor_vol_ceftamin_list = tumor_vol_ceftamin['Tumor Volume (mm3)'].tolist()\n",
    "tumor_vol_infubinol_list = tumor_vol_infubinol['Tumor Volume (mm3)'].tolist()\n"
   ]
  },
  {
   "cell_type": "code",
   "execution_count": 44,
   "metadata": {},
   "outputs": [
    {
     "data": {
      "image/png": "[encoded data removed]",
      "text/plain": [
       "<Figure size 432x288 with 1 Axes>"
      ]
     },
     "metadata": {
      "needs_background": "light"
     },
     "output_type": "display_data"
    }
   ],
   "source": [
    "# Plot top 4 drugs' box and whiskers data with outliers in the same plot\n",
    "data = [tumor_vol_ramicane_list, tumor_vol_capomulin_list, tumor_vol_ceftamin_list, tumor_vol_infubinol_list]\n",
    "fig5, ax5 = plt.subplots()\n",
    "ax5.set_title(f'Top 4 most promising treatments, their comparable effectiveness and existing outliers')\n",
    "ax5.set_ylabel('Tumor Volume (mm3)')\n",
    "ax5.boxplot(data)\n",
    "labels = ('Ramicane', 'Capomulin', 'Ceftamin', 'Infubinol')\n",
    "names=(\"Ramicane\",\"Capomulin\",\"Ceftamin\", \"Infubinol\")\n",
    "plt.xticks(np.arange(len(labels))+1, labels)\n",
    "plt.show()"
   ]
  },
  {
   "cell_type": "code",
   "execution_count": 45,
   "metadata": {},
   "outputs": [],
   "source": [
    "# Generate a box plot of the final tumor volume of each mouse across four regimens of interest"
   ]
  },
  {
   "cell_type": "markdown",
   "metadata": {},
   "source": [
    "## Line and Scatter Plots"
   ]
  },
  {
   "cell_type": "code",
   "execution_count": 46,
   "metadata": {},
   "outputs": [
    {
     "data": {
      "image/png": "[encoded data removed]",
      "text/plain": [
       "<Figure size 432x288 with 1 Axes>"
      ]
     },
     "metadata": {
      "needs_background": "light"
     },
     "output_type": "display_data"
    },
    {
     "data": {
      "text/plain": [
       "<Figure size 432x288 with 0 Axes>"
      ]
     },
     "metadata": {},
     "output_type": "display_data"
    }
   ],
   "source": [
    "# Generate a line plot of time point versus tumor volume \n",
    "    # for a mouse treated with Capomulin\n",
    "mouse_treated_with_capomulin = clean_df.loc[clean_df['Drug Regimen'] == 'Capomulin']\n",
    "mice_capomulin = mouse_treated_with_capomulin[['Mouse ID', 'Drug Regimen', 'Tumor Volume (mm3)']]\n",
    "unique_mouse = mice_capomulin['Mouse ID'].unique()\n",
    "mouse_b128 = mouse_treated_with_capomulin.loc[mouse_treated_with_capomulin['Mouse ID'] == 'b128']\n",
    "mouse_b128_filtered = mouse_b128[['Mouse ID', 'Timepoint', 'Tumor Volume (mm3)']]\n",
    "mouse_b128_timepoint_list = mouse_b128_filtered['Timepoint'].tolist()\n",
    "mouse_b128_tumvol_list = mouse_b128_filtered['Tumor Volume (mm3)'].tolist()\n",
    "\n",
    "plt.plot(mouse_b128_timepoint_list, mouse_b128_tumvol_list)\n",
    "plt.title(\"Figure 4 - Mouse ID b128 - Timepoint versus Tumor Volume (mm3)\")\n",
    "plt.xlabel(\"Timepoints (Days)\")\n",
    "plt.ylabel(\"Tumor Volume (mm3)\")\n",
    "plt.show()\n",
    "plt.savefig(\"AnalysisData/Mouse_id_b128_Timepoint_vs_Tumor_volume.png\")"
   ]
  },
  {
   "cell_type": "code",
   "execution_count": 47,
   "metadata": {},
   "outputs": [
    {
     "data": {
      "text/html": [
       "<div>\n",
       "<style scoped>\n",
       "    .dataframe tbody tr th:only-of-type {\n",
       "        vertical-align: middle;\n",
       "    }\n",
       "\n",
       "    .dataframe tbody tr th {\n",
       "        vertical-align: top;\n",
       "    }\n",
       "\n",
       "    .dataframe thead th {\n",
       "        text-align: right;\n",
       "    }\n",
       "</style>\n",
       "<table border=\"1\" class=\"dataframe\">\n",
       "  <thead>\n",
       "    <tr style=\"text-align: right;\">\n",
       "      <th></th>\n",
       "      <th>Mouse ID</th>\n",
       "      <th>Timepoint</th>\n",
       "      <th>Tumor Volume (mm3)</th>\n",
       "      <th>Metastatic Sites</th>\n",
       "      <th>Drug Regimen</th>\n",
       "      <th>Sex</th>\n",
       "      <th>Age_months</th>\n",
       "      <th>Weight (g)</th>\n",
       "    </tr>\n",
       "  </thead>\n",
       "  <tbody>\n",
       "    <tr>\n",
       "      <th>0</th>\n",
       "      <td>b128</td>\n",
       "      <td>0</td>\n",
       "      <td>45.000000</td>\n",
       "      <td>0</td>\n",
       "      <td>Capomulin</td>\n",
       "      <td>Female</td>\n",
       "      <td>9</td>\n",
       "      <td>22</td>\n",
       "    </tr>\n",
       "    <tr>\n",
       "      <th>472</th>\n",
       "      <td>b128</td>\n",
       "      <td>5</td>\n",
       "      <td>45.651331</td>\n",
       "      <td>0</td>\n",
       "      <td>Capomulin</td>\n",
       "      <td>Female</td>\n",
       "      <td>9</td>\n",
       "      <td>22</td>\n",
       "    </tr>\n",
       "    <tr>\n",
       "      <th>679</th>\n",
       "      <td>b128</td>\n",
       "      <td>10</td>\n",
       "      <td>43.270852</td>\n",
       "      <td>0</td>\n",
       "      <td>Capomulin</td>\n",
       "      <td>Female</td>\n",
       "      <td>9</td>\n",
       "      <td>22</td>\n",
       "    </tr>\n",
       "    <tr>\n",
       "      <th>719</th>\n",
       "      <td>b128</td>\n",
       "      <td>15</td>\n",
       "      <td>43.784893</td>\n",
       "      <td>0</td>\n",
       "      <td>Capomulin</td>\n",
       "      <td>Female</td>\n",
       "      <td>9</td>\n",
       "      <td>22</td>\n",
       "    </tr>\n",
       "    <tr>\n",
       "      <th>933</th>\n",
       "      <td>b128</td>\n",
       "      <td>20</td>\n",
       "      <td>42.731552</td>\n",
       "      <td>0</td>\n",
       "      <td>Capomulin</td>\n",
       "      <td>Female</td>\n",
       "      <td>9</td>\n",
       "      <td>22</td>\n",
       "    </tr>\n",
       "    <tr>\n",
       "      <th>1268</th>\n",
       "      <td>b128</td>\n",
       "      <td>25</td>\n",
       "      <td>43.262145</td>\n",
       "      <td>1</td>\n",
       "      <td>Capomulin</td>\n",
       "      <td>Female</td>\n",
       "      <td>9</td>\n",
       "      <td>22</td>\n",
       "    </tr>\n",
       "    <tr>\n",
       "      <th>1400</th>\n",
       "      <td>b128</td>\n",
       "      <td>30</td>\n",
       "      <td>40.605335</td>\n",
       "      <td>1</td>\n",
       "      <td>Capomulin</td>\n",
       "      <td>Female</td>\n",
       "      <td>9</td>\n",
       "      <td>22</td>\n",
       "    </tr>\n",
       "    <tr>\n",
       "      <th>1547</th>\n",
       "      <td>b128</td>\n",
       "      <td>35</td>\n",
       "      <td>37.967644</td>\n",
       "      <td>1</td>\n",
       "      <td>Capomulin</td>\n",
       "      <td>Female</td>\n",
       "      <td>9</td>\n",
       "      <td>22</td>\n",
       "    </tr>\n",
       "    <tr>\n",
       "      <th>1629</th>\n",
       "      <td>b128</td>\n",
       "      <td>40</td>\n",
       "      <td>38.379726</td>\n",
       "      <td>2</td>\n",
       "      <td>Capomulin</td>\n",
       "      <td>Female</td>\n",
       "      <td>9</td>\n",
       "      <td>22</td>\n",
       "    </tr>\n",
       "    <tr>\n",
       "      <th>1764</th>\n",
       "      <td>b128</td>\n",
       "      <td>45</td>\n",
       "      <td>38.982878</td>\n",
       "      <td>2</td>\n",
       "      <td>Capomulin</td>\n",
       "      <td>Female</td>\n",
       "      <td>9</td>\n",
       "      <td>22</td>\n",
       "    </tr>\n",
       "  </tbody>\n",
       "</table>\n",
       "</div>"
      ],
      "text/plain": [
       "     Mouse ID  Timepoint  Tumor Volume (mm3)  Metastatic Sites Drug Regimen  \\\n",
       "0        b128          0           45.000000                 0    Capomulin   \n",
       "472      b128          5           45.651331                 0    Capomulin   \n",
       "679      b128         10           43.270852                 0    Capomulin   \n",
       "719      b128         15           43.784893                 0    Capomulin   \n",
       "933      b128         20           42.731552                 0    Capomulin   \n",
       "1268     b128         25           43.262145                 1    Capomulin   \n",
       "1400     b128         30           40.605335                 1    Capomulin   \n",
       "1547     b128         35           37.967644                 1    Capomulin   \n",
       "1629     b128         40           38.379726                 2    Capomulin   \n",
       "1764     b128         45           38.982878                 2    Capomulin   \n",
       "\n",
       "         Sex  Age_months  Weight (g)  \n",
       "0     Female           9          22  \n",
       "472   Female           9          22  \n",
       "679   Female           9          22  \n",
       "719   Female           9          22  \n",
       "933   Female           9          22  \n",
       "1268  Female           9          22  \n",
       "1400  Female           9          22  \n",
       "1547  Female           9          22  \n",
       "1629  Female           9          22  \n",
       "1764  Female           9          22  "
      ]
     },
     "execution_count": 47,
     "metadata": {},
     "output_type": "execute_result"
    }
   ],
   "source": [
    "# README\n",
    "    # Generate a scatter plot of mouse weight versus average tumor volume for the Capomulin treatment regimen.\n",
    "capomulin_df = clean_df.loc[clean_df['Drug Regimen'] == 'Capomulin']\n",
    "mouse_b128_cap_df = capomulin_df.loc[capomulin_df['Mouse ID'] == 'b128']\n",
    "mouse_b128_cap_df"
   ]
  },
  {
   "cell_type": "code",
   "execution_count": 48,
   "metadata": {},
   "outputs": [
    {
     "data": {
      "text/html": [
       "<div>\n",
       "<style scoped>\n",
       "    .dataframe tbody tr th:only-of-type {\n",
       "        vertical-align: middle;\n",
       "    }\n",
       "\n",
       "    .dataframe tbody tr th {\n",
       "        vertical-align: top;\n",
       "    }\n",
       "\n",
       "    .dataframe thead th {\n",
       "        text-align: right;\n",
       "    }\n",
       "</style>\n",
       "<table border=\"1\" class=\"dataframe\">\n",
       "  <thead>\n",
       "    <tr style=\"text-align: right;\">\n",
       "      <th></th>\n",
       "      <th>Mouse ID</th>\n",
       "      <th>Timepoint</th>\n",
       "      <th>Tumor Volume (mm3)</th>\n",
       "      <th>Metastatic Sites</th>\n",
       "      <th>Drug Regimen</th>\n",
       "      <th>Sex</th>\n",
       "      <th>Age_months</th>\n",
       "      <th>Weight (g)</th>\n",
       "    </tr>\n",
       "  </thead>\n",
       "  <tbody>\n",
       "    <tr>\n",
       "      <th>0</th>\n",
       "      <td>b128</td>\n",
       "      <td>0</td>\n",
       "      <td>45.000000</td>\n",
       "      <td>0</td>\n",
       "      <td>Capomulin</td>\n",
       "      <td>Female</td>\n",
       "      <td>9</td>\n",
       "      <td>22</td>\n",
       "    </tr>\n",
       "    <tr>\n",
       "      <th>472</th>\n",
       "      <td>b128</td>\n",
       "      <td>5</td>\n",
       "      <td>45.651331</td>\n",
       "      <td>0</td>\n",
       "      <td>Capomulin</td>\n",
       "      <td>Female</td>\n",
       "      <td>9</td>\n",
       "      <td>22</td>\n",
       "    </tr>\n",
       "    <tr>\n",
       "      <th>679</th>\n",
       "      <td>b128</td>\n",
       "      <td>10</td>\n",
       "      <td>43.270852</td>\n",
       "      <td>0</td>\n",
       "      <td>Capomulin</td>\n",
       "      <td>Female</td>\n",
       "      <td>9</td>\n",
       "      <td>22</td>\n",
       "    </tr>\n",
       "    <tr>\n",
       "      <th>719</th>\n",
       "      <td>b128</td>\n",
       "      <td>15</td>\n",
       "      <td>43.784893</td>\n",
       "      <td>0</td>\n",
       "      <td>Capomulin</td>\n",
       "      <td>Female</td>\n",
       "      <td>9</td>\n",
       "      <td>22</td>\n",
       "    </tr>\n",
       "    <tr>\n",
       "      <th>933</th>\n",
       "      <td>b128</td>\n",
       "      <td>20</td>\n",
       "      <td>42.731552</td>\n",
       "      <td>0</td>\n",
       "      <td>Capomulin</td>\n",
       "      <td>Female</td>\n",
       "      <td>9</td>\n",
       "      <td>22</td>\n",
       "    </tr>\n",
       "    <tr>\n",
       "      <th>1268</th>\n",
       "      <td>b128</td>\n",
       "      <td>25</td>\n",
       "      <td>43.262145</td>\n",
       "      <td>1</td>\n",
       "      <td>Capomulin</td>\n",
       "      <td>Female</td>\n",
       "      <td>9</td>\n",
       "      <td>22</td>\n",
       "    </tr>\n",
       "    <tr>\n",
       "      <th>1400</th>\n",
       "      <td>b128</td>\n",
       "      <td>30</td>\n",
       "      <td>40.605335</td>\n",
       "      <td>1</td>\n",
       "      <td>Capomulin</td>\n",
       "      <td>Female</td>\n",
       "      <td>9</td>\n",
       "      <td>22</td>\n",
       "    </tr>\n",
       "    <tr>\n",
       "      <th>1547</th>\n",
       "      <td>b128</td>\n",
       "      <td>35</td>\n",
       "      <td>37.967644</td>\n",
       "      <td>1</td>\n",
       "      <td>Capomulin</td>\n",
       "      <td>Female</td>\n",
       "      <td>9</td>\n",
       "      <td>22</td>\n",
       "    </tr>\n",
       "    <tr>\n",
       "      <th>1629</th>\n",
       "      <td>b128</td>\n",
       "      <td>40</td>\n",
       "      <td>38.379726</td>\n",
       "      <td>2</td>\n",
       "      <td>Capomulin</td>\n",
       "      <td>Female</td>\n",
       "      <td>9</td>\n",
       "      <td>22</td>\n",
       "    </tr>\n",
       "    <tr>\n",
       "      <th>1764</th>\n",
       "      <td>b128</td>\n",
       "      <td>45</td>\n",
       "      <td>38.982878</td>\n",
       "      <td>2</td>\n",
       "      <td>Capomulin</td>\n",
       "      <td>Female</td>\n",
       "      <td>9</td>\n",
       "      <td>22</td>\n",
       "    </tr>\n",
       "  </tbody>\n",
       "</table>\n",
       "</div>"
      ],
      "text/plain": [
       "     Mouse ID  Timepoint  Tumor Volume (mm3)  Metastatic Sites Drug Regimen  \\\n",
       "0        b128          0           45.000000                 0    Capomulin   \n",
       "472      b128          5           45.651331                 0    Capomulin   \n",
       "679      b128         10           43.270852                 0    Capomulin   \n",
       "719      b128         15           43.784893                 0    Capomulin   \n",
       "933      b128         20           42.731552                 0    Capomulin   \n",
       "1268     b128         25           43.262145                 1    Capomulin   \n",
       "1400     b128         30           40.605335                 1    Capomulin   \n",
       "1547     b128         35           37.967644                 1    Capomulin   \n",
       "1629     b128         40           38.379726                 2    Capomulin   \n",
       "1764     b128         45           38.982878                 2    Capomulin   \n",
       "\n",
       "         Sex  Age_months  Weight (g)  \n",
       "0     Female           9          22  \n",
       "472   Female           9          22  \n",
       "679   Female           9          22  \n",
       "719   Female           9          22  \n",
       "933   Female           9          22  \n",
       "1268  Female           9          22  \n",
       "1400  Female           9          22  \n",
       "1547  Female           9          22  \n",
       "1629  Female           9          22  \n",
       "1764  Female           9          22  "
      ]
     },
     "execution_count": 48,
     "metadata": {},
     "output_type": "execute_result"
    }
   ],
   "source": [
    "mouse_b128_cap_df2 = mouse_b128_cap_df[['Weight (g)', 'Tumor Volume (mm3)']]\n",
    "mouse_b128_cap_df2 = mouse_b128_cap_df.groupby('Tumor Volume (mm3)').mean()\n",
    "mouse_b128_cap_df"
   ]
  },
  {
   "cell_type": "code",
   "execution_count": 49,
   "metadata": {},
   "outputs": [
    {
     "name": "stdout",
     "output_type": "stream",
     "text": [
      "[22, 22, 22, 22, 22, 22, 22, 22, 22, 22]\n"
     ]
    }
   ],
   "source": [
    "weight_b128_cap = mouse_b128_cap_df2['Weight (g)'].tolist()\n",
    "print(weight_b128_cap)"
   ]
  },
  {
   "cell_type": "code",
   "execution_count": 50,
   "metadata": {},
   "outputs": [
    {
     "data": {
      "text/plain": [
       "[45.0,\n",
       " 45.65133131,\n",
       " 43.2708519,\n",
       " 43.78489343,\n",
       " 42.731552,\n",
       " 43.26214483,\n",
       " 40.60533486,\n",
       " 37.96764437,\n",
       " 38.3797259,\n",
       " 38.98287774]"
      ]
     },
     "execution_count": 50,
     "metadata": {},
     "output_type": "execute_result"
    }
   ],
   "source": [
    "# weight_list_capomulin\n",
    "average_b128_cap_vol = mouse_b128_cap_df['Tumor Volume (mm3)'].tolist()\n",
    "average_b128_cap_vol"
   ]
  },
  {
   "cell_type": "code",
   "execution_count": 51,
   "metadata": {},
   "outputs": [
    {
     "data": {
      "image/png": "[encoded data removed]",
      "text/plain": [
       "<Figure size 432x288 with 1 Axes>"
      ]
     },
     "metadata": {
      "needs_background": "light"
     },
     "output_type": "display_data"
    }
   ],
   "source": [
    "plt.scatter(average_b128_cap_vol, weight_b128_cap)\n",
    "plt.title(\"Figure 5 - Mouse ID b128 - Weight versus Tumor Volume (mm3)\")\n",
    "plt.xlabel(\"Tumor Volume (mm3)\")\n",
    "plt.ylabel(\"Weight (g)\")\n",
    "plt.show()"
   ]
  },
  {
   "cell_type": "code",
   "execution_count": 52,
   "metadata": {},
   "outputs": [
    {
     "data": {
      "text/plain": [
       "(array([14., 16., 18., 20., 22., 24., 26.]),\n",
       " <a list of 7 Text major ticklabel objects>)"
      ]
     },
     "execution_count": 52,
     "metadata": {},
     "output_type": "execute_result"
    },
    {
     "data": {
      "image/png": "[encoded data removed]",
      "text/plain": [
       "<Figure size 432x288 with 1 Axes>"
      ]
     },
     "metadata": {
      "needs_background": "light"
     },
     "output_type": "display_data"
    }
   ],
   "source": [
    "# Create new df for Capomulin only. Generate scatter plot Tumor Volume per each Mouse ID.\n",
    "df = clean_df[clean_df['Drug Regimen'] == 'Capomulin']\n",
    "df.plot.scatter(x='Weight (g)', y='Tumor Volume (mm3)')\n",
    "plt.title(\"Capomulin - Mouse Weight vs. Tumor Volume\")\n",
    "plt.xticks(rotation=90)"
   ]
  },
  {
   "cell_type": "markdown",
   "metadata": {},
   "source": [
    "## Correlation and Regression"
   ]
  },
  {
   "cell_type": "code",
   "execution_count": 53,
   "metadata": {},
   "outputs": [
    {
     "data": {
      "text/html": [
       "<div>\n",
       "<style scoped>\n",
       "    .dataframe tbody tr th:only-of-type {\n",
       "        vertical-align: middle;\n",
       "    }\n",
       "\n",
       "    .dataframe tbody tr th {\n",
       "        vertical-align: top;\n",
       "    }\n",
       "\n",
       "    .dataframe thead th {\n",
       "        text-align: right;\n",
       "    }\n",
       "</style>\n",
       "<table border=\"1\" class=\"dataframe\">\n",
       "  <thead>\n",
       "    <tr style=\"text-align: right;\">\n",
       "      <th></th>\n",
       "      <th>Mouse ID</th>\n",
       "      <th>Timepoint</th>\n",
       "      <th>Tumor Volume (mm3)</th>\n",
       "      <th>Metastatic Sites</th>\n",
       "      <th>Drug Regimen</th>\n",
       "      <th>Sex</th>\n",
       "      <th>Age_months</th>\n",
       "      <th>Weight (g)</th>\n",
       "    </tr>\n",
       "  </thead>\n",
       "  <tbody>\n",
       "    <tr>\n",
       "      <th>0</th>\n",
       "      <td>b128</td>\n",
       "      <td>0</td>\n",
       "      <td>45.000000</td>\n",
       "      <td>0</td>\n",
       "      <td>Capomulin</td>\n",
       "      <td>Female</td>\n",
       "      <td>9</td>\n",
       "      <td>22</td>\n",
       "    </tr>\n",
       "    <tr>\n",
       "      <th>472</th>\n",
       "      <td>b128</td>\n",
       "      <td>5</td>\n",
       "      <td>45.651331</td>\n",
       "      <td>0</td>\n",
       "      <td>Capomulin</td>\n",
       "      <td>Female</td>\n",
       "      <td>9</td>\n",
       "      <td>22</td>\n",
       "    </tr>\n",
       "    <tr>\n",
       "      <th>679</th>\n",
       "      <td>b128</td>\n",
       "      <td>10</td>\n",
       "      <td>43.270852</td>\n",
       "      <td>0</td>\n",
       "      <td>Capomulin</td>\n",
       "      <td>Female</td>\n",
       "      <td>9</td>\n",
       "      <td>22</td>\n",
       "    </tr>\n",
       "    <tr>\n",
       "      <th>719</th>\n",
       "      <td>b128</td>\n",
       "      <td>15</td>\n",
       "      <td>43.784893</td>\n",
       "      <td>0</td>\n",
       "      <td>Capomulin</td>\n",
       "      <td>Female</td>\n",
       "      <td>9</td>\n",
       "      <td>22</td>\n",
       "    </tr>\n",
       "    <tr>\n",
       "      <th>933</th>\n",
       "      <td>b128</td>\n",
       "      <td>20</td>\n",
       "      <td>42.731552</td>\n",
       "      <td>0</td>\n",
       "      <td>Capomulin</td>\n",
       "      <td>Female</td>\n",
       "      <td>9</td>\n",
       "      <td>22</td>\n",
       "    </tr>\n",
       "  </tbody>\n",
       "</table>\n",
       "</div>"
      ],
      "text/plain": [
       "    Mouse ID  Timepoint  Tumor Volume (mm3)  Metastatic Sites Drug Regimen  \\\n",
       "0       b128          0           45.000000                 0    Capomulin   \n",
       "472     b128          5           45.651331                 0    Capomulin   \n",
       "679     b128         10           43.270852                 0    Capomulin   \n",
       "719     b128         15           43.784893                 0    Capomulin   \n",
       "933     b128         20           42.731552                 0    Capomulin   \n",
       "\n",
       "        Sex  Age_months  Weight (g)  \n",
       "0    Female           9          22  \n",
       "472  Female           9          22  \n",
       "679  Female           9          22  \n",
       "719  Female           9          22  \n",
       "933  Female           9          22  "
      ]
     },
     "execution_count": 53,
     "metadata": {},
     "output_type": "execute_result"
    }
   ],
   "source": [
    "# Calculate the correlation coefficient and linear regression model \n",
    "# for mouse weight and average tumor volume for the Capomulin regimen\n",
    "capomulin_df3 = clean_df.loc[clean_df['Drug Regimen'] == 'Capomulin']\n",
    "mouse_b128_cap_df3 = capomulin_df.loc[capomulin_df['Mouse ID'] == 'b128']\n",
    "mouse_b128_cap_df3.head()"
   ]
  },
  {
   "cell_type": "code",
   "execution_count": 54,
   "metadata": {},
   "outputs": [
    {
     "data": {
      "text/plain": [
       "[45.0,\n",
       " 45.65133131,\n",
       " 43.2708519,\n",
       " 43.78489343,\n",
       " 42.731552,\n",
       " 43.26214483,\n",
       " 40.60533486,\n",
       " 37.96764437,\n",
       " 38.3797259,\n",
       " 38.98287774]"
      ]
     },
     "execution_count": 54,
     "metadata": {},
     "output_type": "execute_result"
    }
   ],
   "source": [
    "# Correlation definition\n",
    "average_b128_cap_vol"
   ]
  },
  {
   "cell_type": "code",
   "execution_count": 55,
   "metadata": {},
   "outputs": [
    {
     "data": {
      "text/plain": [
       "[22, 22, 22, 22, 22, 22, 22, 22, 22, 22]"
      ]
     },
     "execution_count": 55,
     "metadata": {},
     "output_type": "execute_result"
    }
   ],
   "source": [
    "weight_b128_cap"
   ]
  },
  {
   "cell_type": "code",
   "execution_count": 56,
   "metadata": {},
   "outputs": [
    {
     "name": "stdout",
     "output_type": "stream",
     "text": [
      "Correlation between both factors is (nan, nan)\n"
     ]
    }
   ],
   "source": [
    "correlation = sts.pearsonr(average_b128_cap_vol, weight_b128_cap)\n",
    "print(f\"Correlation between both factors is {correlation}\")"
   ]
  },
  {
   "cell_type": "code",
   "execution_count": 57,
   "metadata": {},
   "outputs": [
    {
     "data": {
      "image/png": "[encoded data removed]",
      "text/plain": [
       "<Figure size 432x288 with 1 Axes>"
      ]
     },
     "metadata": {
      "needs_background": "light"
     },
     "output_type": "display_data"
    }
   ],
   "source": [
    "plt.scatter(average_b128_cap_vol, weight_b128_cap)\n",
    "plt.title(\"Mouse ID b128 Weight vs. Average Tumor Volume (mm3)\")\n",
    "plt.xlabel(\"Tumor Volume (mm3)\")\n",
    "plt.ylabel(\"Mouse ID b128 Weight (g)\")\n",
    "plt.show()"
   ]
  },
  {
   "cell_type": "code",
   "execution_count": 58,
   "metadata": {},
   "outputs": [
    {
     "data": {
      "text/html": [
       "<div>\n",
       "<style scoped>\n",
       "    .dataframe tbody tr th:only-of-type {\n",
       "        vertical-align: middle;\n",
       "    }\n",
       "\n",
       "    .dataframe tbody tr th {\n",
       "        vertical-align: top;\n",
       "    }\n",
       "\n",
       "    .dataframe thead th {\n",
       "        text-align: right;\n",
       "    }\n",
       "</style>\n",
       "<table border=\"1\" class=\"dataframe\">\n",
       "  <thead>\n",
       "    <tr style=\"text-align: right;\">\n",
       "      <th></th>\n",
       "      <th>Mouse ID</th>\n",
       "      <th>Timepoint</th>\n",
       "      <th>Tumor Volume (mm3)</th>\n",
       "      <th>Metastatic Sites</th>\n",
       "      <th>Drug Regimen</th>\n",
       "      <th>Sex</th>\n",
       "      <th>Age_months</th>\n",
       "      <th>Weight (g)</th>\n",
       "    </tr>\n",
       "  </thead>\n",
       "  <tbody>\n",
       "    <tr>\n",
       "      <th>0</th>\n",
       "      <td>b128</td>\n",
       "      <td>0</td>\n",
       "      <td>45.000000</td>\n",
       "      <td>0</td>\n",
       "      <td>Capomulin</td>\n",
       "      <td>Female</td>\n",
       "      <td>9</td>\n",
       "      <td>22</td>\n",
       "    </tr>\n",
       "    <tr>\n",
       "      <th>226</th>\n",
       "      <td>j246</td>\n",
       "      <td>0</td>\n",
       "      <td>45.000000</td>\n",
       "      <td>0</td>\n",
       "      <td>Capomulin</td>\n",
       "      <td>Female</td>\n",
       "      <td>21</td>\n",
       "      <td>21</td>\n",
       "    </tr>\n",
       "    <tr>\n",
       "      <th>227</th>\n",
       "      <td>r554</td>\n",
       "      <td>0</td>\n",
       "      <td>45.000000</td>\n",
       "      <td>0</td>\n",
       "      <td>Capomulin</td>\n",
       "      <td>Female</td>\n",
       "      <td>8</td>\n",
       "      <td>17</td>\n",
       "    </tr>\n",
       "    <tr>\n",
       "      <th>228</th>\n",
       "      <td>s185</td>\n",
       "      <td>0</td>\n",
       "      <td>45.000000</td>\n",
       "      <td>0</td>\n",
       "      <td>Capomulin</td>\n",
       "      <td>Female</td>\n",
       "      <td>3</td>\n",
       "      <td>17</td>\n",
       "    </tr>\n",
       "    <tr>\n",
       "      <th>229</th>\n",
       "      <td>b742</td>\n",
       "      <td>0</td>\n",
       "      <td>45.000000</td>\n",
       "      <td>0</td>\n",
       "      <td>Capomulin</td>\n",
       "      <td>Male</td>\n",
       "      <td>7</td>\n",
       "      <td>21</td>\n",
       "    </tr>\n",
       "    <tr>\n",
       "      <th>...</th>\n",
       "      <td>...</td>\n",
       "      <td>...</td>\n",
       "      <td>...</td>\n",
       "      <td>...</td>\n",
       "      <td>...</td>\n",
       "      <td>...</td>\n",
       "      <td>...</td>\n",
       "      <td>...</td>\n",
       "    </tr>\n",
       "    <tr>\n",
       "      <th>1854</th>\n",
       "      <td>s710</td>\n",
       "      <td>45</td>\n",
       "      <td>40.728578</td>\n",
       "      <td>1</td>\n",
       "      <td>Capomulin</td>\n",
       "      <td>Female</td>\n",
       "      <td>1</td>\n",
       "      <td>23</td>\n",
       "    </tr>\n",
       "    <tr>\n",
       "      <th>1859</th>\n",
       "      <td>j119</td>\n",
       "      <td>45</td>\n",
       "      <td>38.125164</td>\n",
       "      <td>1</td>\n",
       "      <td>Capomulin</td>\n",
       "      <td>Female</td>\n",
       "      <td>7</td>\n",
       "      <td>23</td>\n",
       "    </tr>\n",
       "    <tr>\n",
       "      <th>1878</th>\n",
       "      <td>i557</td>\n",
       "      <td>45</td>\n",
       "      <td>47.685963</td>\n",
       "      <td>1</td>\n",
       "      <td>Capomulin</td>\n",
       "      <td>Female</td>\n",
       "      <td>1</td>\n",
       "      <td>24</td>\n",
       "    </tr>\n",
       "    <tr>\n",
       "      <th>1888</th>\n",
       "      <td>r944</td>\n",
       "      <td>45</td>\n",
       "      <td>41.581521</td>\n",
       "      <td>2</td>\n",
       "      <td>Capomulin</td>\n",
       "      <td>Male</td>\n",
       "      <td>12</td>\n",
       "      <td>25</td>\n",
       "    </tr>\n",
       "    <tr>\n",
       "      <th>1889</th>\n",
       "      <td>u364</td>\n",
       "      <td>45</td>\n",
       "      <td>31.023923</td>\n",
       "      <td>3</td>\n",
       "      <td>Capomulin</td>\n",
       "      <td>Male</td>\n",
       "      <td>18</td>\n",
       "      <td>17</td>\n",
       "    </tr>\n",
       "  </tbody>\n",
       "</table>\n",
       "<p>230 rows × 8 columns</p>\n",
       "</div>"
      ],
      "text/plain": [
       "     Mouse ID  Timepoint  Tumor Volume (mm3)  Metastatic Sites Drug Regimen  \\\n",
       "0        b128          0           45.000000                 0    Capomulin   \n",
       "226      j246          0           45.000000                 0    Capomulin   \n",
       "227      r554          0           45.000000                 0    Capomulin   \n",
       "228      s185          0           45.000000                 0    Capomulin   \n",
       "229      b742          0           45.000000                 0    Capomulin   \n",
       "...       ...        ...                 ...               ...          ...   \n",
       "1854     s710         45           40.728578                 1    Capomulin   \n",
       "1859     j119         45           38.125164                 1    Capomulin   \n",
       "1878     i557         45           47.685963                 1    Capomulin   \n",
       "1888     r944         45           41.581521                 2    Capomulin   \n",
       "1889     u364         45           31.023923                 3    Capomulin   \n",
       "\n",
       "         Sex  Age_months  Weight (g)  \n",
       "0     Female           9          22  \n",
       "226   Female          21          21  \n",
       "227   Female           8          17  \n",
       "228   Female           3          17  \n",
       "229     Male           7          21  \n",
       "...      ...         ...         ...  \n",
       "1854  Female           1          23  \n",
       "1859  Female           7          23  \n",
       "1878  Female           1          24  \n",
       "1888    Male          12          25  \n",
       "1889    Male          18          17  \n",
       "\n",
       "[230 rows x 8 columns]"
      ]
     },
     "execution_count": 58,
     "metadata": {},
     "output_type": "execute_result"
    }
   ],
   "source": [
    "capomulin_df4 = clean_df[clean_df['Drug Regimen'] == 'Capomulin']\n",
    "capomulin_df4"
   ]
  },
  {
   "cell_type": "code",
   "execution_count": 59,
   "metadata": {},
   "outputs": [
    {
     "data": {
      "text/html": [
       "<div>\n",
       "<style scoped>\n",
       "    .dataframe tbody tr th:only-of-type {\n",
       "        vertical-align: middle;\n",
       "    }\n",
       "\n",
       "    .dataframe tbody tr th {\n",
       "        vertical-align: top;\n",
       "    }\n",
       "\n",
       "    .dataframe thead th {\n",
       "        text-align: right;\n",
       "    }\n",
       "</style>\n",
       "<table border=\"1\" class=\"dataframe\">\n",
       "  <thead>\n",
       "    <tr style=\"text-align: right;\">\n",
       "      <th></th>\n",
       "      <th>Weight (g)</th>\n",
       "      <th>Tumor Volume (mm3)</th>\n",
       "    </tr>\n",
       "  </thead>\n",
       "  <tbody>\n",
       "    <tr>\n",
       "      <th>0</th>\n",
       "      <td>22</td>\n",
       "      <td>45.000000</td>\n",
       "    </tr>\n",
       "    <tr>\n",
       "      <th>226</th>\n",
       "      <td>21</td>\n",
       "      <td>45.000000</td>\n",
       "    </tr>\n",
       "    <tr>\n",
       "      <th>227</th>\n",
       "      <td>17</td>\n",
       "      <td>45.000000</td>\n",
       "    </tr>\n",
       "    <tr>\n",
       "      <th>228</th>\n",
       "      <td>17</td>\n",
       "      <td>45.000000</td>\n",
       "    </tr>\n",
       "    <tr>\n",
       "      <th>229</th>\n",
       "      <td>21</td>\n",
       "      <td>45.000000</td>\n",
       "    </tr>\n",
       "    <tr>\n",
       "      <th>...</th>\n",
       "      <td>...</td>\n",
       "      <td>...</td>\n",
       "    </tr>\n",
       "    <tr>\n",
       "      <th>1854</th>\n",
       "      <td>23</td>\n",
       "      <td>40.728578</td>\n",
       "    </tr>\n",
       "    <tr>\n",
       "      <th>1859</th>\n",
       "      <td>23</td>\n",
       "      <td>38.125164</td>\n",
       "    </tr>\n",
       "    <tr>\n",
       "      <th>1878</th>\n",
       "      <td>24</td>\n",
       "      <td>47.685963</td>\n",
       "    </tr>\n",
       "    <tr>\n",
       "      <th>1888</th>\n",
       "      <td>25</td>\n",
       "      <td>41.581521</td>\n",
       "    </tr>\n",
       "    <tr>\n",
       "      <th>1889</th>\n",
       "      <td>17</td>\n",
       "      <td>31.023923</td>\n",
       "    </tr>\n",
       "  </tbody>\n",
       "</table>\n",
       "<p>230 rows × 2 columns</p>\n",
       "</div>"
      ],
      "text/plain": [
       "      Weight (g)  Tumor Volume (mm3)\n",
       "0             22           45.000000\n",
       "226           21           45.000000\n",
       "227           17           45.000000\n",
       "228           17           45.000000\n",
       "229           21           45.000000\n",
       "...          ...                 ...\n",
       "1854          23           40.728578\n",
       "1859          23           38.125164\n",
       "1878          24           47.685963\n",
       "1888          25           41.581521\n",
       "1889          17           31.023923\n",
       "\n",
       "[230 rows x 2 columns]"
      ]
     },
     "execution_count": 59,
     "metadata": {},
     "output_type": "execute_result"
    }
   ],
   "source": [
    "mouse_weight_capomulin_df4 = capomulin_df4[['Weight (g)', 'Tumor Volume (mm3)']]\n",
    "mouse_weight_capomulin_df4"
   ]
  },
  {
   "cell_type": "code",
   "execution_count": 60,
   "metadata": {},
   "outputs": [
    {
     "data": {
      "image/png": "[encoded data removed]",
      "text/plain": [
       "<Figure size 432x288 with 1 Axes>"
      ]
     },
     "metadata": {
      "needs_background": "light"
     },
     "output_type": "display_data"
    }
   ],
   "source": [
    "# View in scatter plot before calculating the correlation\n",
    "plt.scatter(mouse_weight_capomulin_df4.iloc[:,0], mouse_weight_capomulin_df4.iloc[:,1])\n",
    "plt.title(\"Capomulin - Mouse Weight vs. Tumor Volume\")\n",
    "plt.xlabel('Mouse Weight (g)')\n",
    "plt.ylabel('Tumor Volume (mm3)')\n",
    "plt.xlim(15, 25)\n",
    "plt.ylim(36, 46)\n",
    "plt.show()"
   ]
  },
  {
   "cell_type": "code",
   "execution_count": 61,
   "metadata": {},
   "outputs": [
    {
     "name": "stdout",
     "output_type": "stream",
     "text": [
      "(0.525699555207717, 9.605446629502006e-18)\n"
     ]
    }
   ],
   "source": [
    "# Calculate the correlation coefficient - Mouse weight versus Tumor Vol\n",
    "mouse_weight_capomulin = mouse_weight_capomulin_df4.iloc[:,0]\n",
    "tumor_vol = mouse_weight_capomulin_df4.iloc[:,1]\n",
    "correlation4 = sts.pearsonr(mouse_weight_capomulin, tumor_vol)\n",
    "print(correlation4)"
   ]
  },
  {
   "cell_type": "code",
   "execution_count": 62,
   "metadata": {},
   "outputs": [
    {
     "data": {
      "text/html": [
       "<div>\n",
       "<style scoped>\n",
       "    .dataframe tbody tr th:only-of-type {\n",
       "        vertical-align: middle;\n",
       "    }\n",
       "\n",
       "    .dataframe tbody tr th {\n",
       "        vertical-align: top;\n",
       "    }\n",
       "\n",
       "    .dataframe thead th {\n",
       "        text-align: right;\n",
       "    }\n",
       "</style>\n",
       "<table border=\"1\" class=\"dataframe\">\n",
       "  <thead>\n",
       "    <tr style=\"text-align: right;\">\n",
       "      <th></th>\n",
       "      <th>Weight (g)</th>\n",
       "      <th>Tumor Volume (mm3)</th>\n",
       "    </tr>\n",
       "  </thead>\n",
       "  <tbody>\n",
       "    <tr>\n",
       "      <th>0</th>\n",
       "      <td>15</td>\n",
       "      <td>36.182040</td>\n",
       "    </tr>\n",
       "    <tr>\n",
       "      <th>1</th>\n",
       "      <td>17</td>\n",
       "      <td>37.214133</td>\n",
       "    </tr>\n",
       "    <tr>\n",
       "      <th>2</th>\n",
       "      <td>19</td>\n",
       "      <td>41.182391</td>\n",
       "    </tr>\n",
       "    <tr>\n",
       "      <th>3</th>\n",
       "      <td>20</td>\n",
       "      <td>39.141053</td>\n",
       "    </tr>\n",
       "    <tr>\n",
       "      <th>4</th>\n",
       "      <td>21</td>\n",
       "      <td>42.088700</td>\n",
       "    </tr>\n",
       "    <tr>\n",
       "      <th>5</th>\n",
       "      <td>22</td>\n",
       "      <td>43.288490</td>\n",
       "    </tr>\n",
       "    <tr>\n",
       "      <th>6</th>\n",
       "      <td>23</td>\n",
       "      <td>43.341051</td>\n",
       "    </tr>\n",
       "    <tr>\n",
       "      <th>7</th>\n",
       "      <td>24</td>\n",
       "      <td>44.805810</td>\n",
       "    </tr>\n",
       "    <tr>\n",
       "      <th>8</th>\n",
       "      <td>25</td>\n",
       "      <td>44.062109</td>\n",
       "    </tr>\n",
       "  </tbody>\n",
       "</table>\n",
       "</div>"
      ],
      "text/plain": [
       "   Weight (g)  Tumor Volume (mm3)\n",
       "0          15           36.182040\n",
       "1          17           37.214133\n",
       "2          19           41.182391\n",
       "3          20           39.141053\n",
       "4          21           42.088700\n",
       "5          22           43.288490\n",
       "6          23           43.341051\n",
       "7          24           44.805810\n",
       "8          25           44.062109"
      ]
     },
     "execution_count": 62,
     "metadata": {},
     "output_type": "execute_result"
    }
   ],
   "source": [
    "# Calculate the correlation coefficient - Mouse weight versus \n",
    "    # Average Tumor Vol. To get average(mean()) need to create groupby \n",
    "grouped_df5 = mouse_weight_capomulin_df4.groupby('Weight (g)')\n",
    "mean_grouped_df5 = grouped_df5.mean().reset_index()\n",
    "mean_grouped_df5"
   ]
  },
  {
   "cell_type": "code",
   "execution_count": 63,
   "metadata": {},
   "outputs": [
    {
     "name": "stdout",
     "output_type": "stream",
     "text": [
      "(0.525699555207717, 9.605446629502006e-18)\n"
     ]
    }
   ],
   "source": [
    "# Plot Mouse Weight versus Average Tumor Volume\n",
    "mouse_weight_capomulin5 = mean_grouped_df5.iloc[:,0]\n",
    "tumor_vol_average5 = mean_grouped_df5.iloc[:,1]\n",
    "correlation5 = sts.pearsonr(mouse_weight_capomulin5, tumor_vol_average5)\n",
    "print(correlation4)"
   ]
  },
  {
   "cell_type": "code",
   "execution_count": 64,
   "metadata": {},
   "outputs": [
    {
     "data": {
      "image/png": "[encoded data removed]",
      "text/plain": [
       "<Figure size 432x288 with 1 Axes>"
      ]
     },
     "metadata": {
      "needs_background": "light"
     },
     "output_type": "display_data"
    }
   ],
   "source": [
    "# View in scatter plot before calculating the correlation\n",
    "plt.scatter(mean_grouped_df5.iloc[:,0], mean_grouped_df5.iloc[:,1])\n",
    "plt.title(\"Capomulin - Mouse Weight vs. Average Tumor Volume\")\n",
    "plt.xlabel('Mouse Weight (g)')\n",
    "plt.ylabel('Average Tumor Volume (mm3)')\n",
    "plt.xlim(15, 25)\n",
    "plt.ylim(36, 46)\n",
    "plt.show()"
   ]
  },
  {
   "cell_type": "code",
   "execution_count": 65,
   "metadata": {},
   "outputs": [
    {
     "data": {
      "text/html": [
       "<div>\n",
       "<style scoped>\n",
       "    .dataframe tbody tr th:only-of-type {\n",
       "        vertical-align: middle;\n",
       "    }\n",
       "\n",
       "    .dataframe tbody tr th {\n",
       "        vertical-align: top;\n",
       "    }\n",
       "\n",
       "    .dataframe thead th {\n",
       "        text-align: right;\n",
       "    }\n",
       "</style>\n",
       "<table border=\"1\" class=\"dataframe\">\n",
       "  <thead>\n",
       "    <tr style=\"text-align: right;\">\n",
       "      <th></th>\n",
       "      <th>Weight</th>\n",
       "      <th>TumorVolume</th>\n",
       "    </tr>\n",
       "  </thead>\n",
       "  <tbody>\n",
       "    <tr>\n",
       "      <th>0</th>\n",
       "      <td>22</td>\n",
       "      <td>45.000000</td>\n",
       "    </tr>\n",
       "    <tr>\n",
       "      <th>226</th>\n",
       "      <td>21</td>\n",
       "      <td>45.000000</td>\n",
       "    </tr>\n",
       "    <tr>\n",
       "      <th>227</th>\n",
       "      <td>17</td>\n",
       "      <td>45.000000</td>\n",
       "    </tr>\n",
       "    <tr>\n",
       "      <th>228</th>\n",
       "      <td>17</td>\n",
       "      <td>45.000000</td>\n",
       "    </tr>\n",
       "    <tr>\n",
       "      <th>229</th>\n",
       "      <td>21</td>\n",
       "      <td>45.000000</td>\n",
       "    </tr>\n",
       "    <tr>\n",
       "      <th>...</th>\n",
       "      <td>...</td>\n",
       "      <td>...</td>\n",
       "    </tr>\n",
       "    <tr>\n",
       "      <th>1854</th>\n",
       "      <td>23</td>\n",
       "      <td>40.728578</td>\n",
       "    </tr>\n",
       "    <tr>\n",
       "      <th>1859</th>\n",
       "      <td>23</td>\n",
       "      <td>38.125164</td>\n",
       "    </tr>\n",
       "    <tr>\n",
       "      <th>1878</th>\n",
       "      <td>24</td>\n",
       "      <td>47.685963</td>\n",
       "    </tr>\n",
       "    <tr>\n",
       "      <th>1888</th>\n",
       "      <td>25</td>\n",
       "      <td>41.581521</td>\n",
       "    </tr>\n",
       "    <tr>\n",
       "      <th>1889</th>\n",
       "      <td>17</td>\n",
       "      <td>31.023923</td>\n",
       "    </tr>\n",
       "  </tbody>\n",
       "</table>\n",
       "<p>230 rows × 2 columns</p>\n",
       "</div>"
      ],
      "text/plain": [
       "      Weight  TumorVolume\n",
       "0         22    45.000000\n",
       "226       21    45.000000\n",
       "227       17    45.000000\n",
       "228       17    45.000000\n",
       "229       21    45.000000\n",
       "...      ...          ...\n",
       "1854      23    40.728578\n",
       "1859      23    38.125164\n",
       "1878      24    47.685963\n",
       "1888      25    41.581521\n",
       "1889      17    31.023923\n",
       "\n",
       "[230 rows x 2 columns]"
      ]
     },
     "execution_count": 65,
     "metadata": {},
     "output_type": "execute_result"
    }
   ],
   "source": [
    "# Try to use unstack method to get the correlation for mouse_weight_capomulin_df4\n",
    "mouse_weight_capomulin_df4 = mouse_weight_capomulin_df4.rename(columns={'Weight (g)': 'Weight',\n",
    "                                                                        'Tumor Volume (mm3)': 'TumorVolume'})\n",
    "mouse_weight_capomulin_df4"
   ]
  },
  {
   "cell_type": "code",
   "execution_count": 66,
   "metadata": {},
   "outputs": [
    {
     "data": {
      "image/png": "[encoded data removed]",
      "text/plain": [
       "<Figure size 432x288 with 1 Axes>"
      ]
     },
     "metadata": {
      "needs_background": "light"
     },
     "output_type": "display_data"
    }
   ],
   "source": [
    "# Generate scatter plot Tumor Volume per each Mouse ID.\n",
    "weight6 = mouse_weight_capomulin_df4.Weight\n",
    "tumorvol = mouse_weight_capomulin_df4.TumorVolume\n",
    "plt.scatter(weight6, tumorvol)\n",
    "plt.title(\"Test 6 - Mouse Weight vs. Tumor Volume\")\n",
    "plt.xlabel(\"Weight (g)\")\n",
    "plt.ylabel(\"Tumor Volume (mm3)\")\n",
    "plt.xlim(15, 25)\n",
    "plt.ylim(36, 46)\n",
    "plt.show()"
   ]
  },
  {
   "cell_type": "code",
   "execution_count": 67,
   "metadata": {},
   "outputs": [
    {
     "data": {
      "text/plain": [
       "(array([14., 16., 18., 20., 22., 24., 26.]),\n",
       " <a list of 7 Text major ticklabel objects>)"
      ]
     },
     "execution_count": 67,
     "metadata": {},
     "output_type": "execute_result"
    },
    {
     "data": {
      "image/png": "[encoded data removed]",
      "text/plain": [
       "<Figure size 432x288 with 1 Axes>"
      ]
     },
     "metadata": {
      "needs_background": "light"
     },
     "output_type": "display_data"
    }
   ],
   "source": [
    "# Create new df for Capomulin only. Generate scatter plot Tumor Volume per each Mouse ID.\n",
    "df = clean_df[clean_df['Drug Regimen'] == 'Capomulin']\n",
    "df.plot.scatter(x='Weight (g)', y='Tumor Volume (mm3)')\n",
    "plt.title(\"Capomulin - Mouse Weight vs. Tumor Volume\")\n",
    "plt.xticks(rotation=90)"
   ]
  },
  {
   "cell_type": "code",
   "execution_count": 68,
   "metadata": {},
   "outputs": [
    {
     "data": {
      "text/plain": [
       "0.53"
      ]
     },
     "execution_count": 68,
     "metadata": {},
     "output_type": "execute_result"
    }
   ],
   "source": [
    "# Identify Pearson value\n",
    "round(sts.pearsonr(weight6, tumorvol)[0],2)"
   ]
  },
  {
   "cell_type": "code",
   "execution_count": 69,
   "metadata": {},
   "outputs": [
    {
     "data": {
      "text/plain": [
       "Weight       TumorVolume    0.5257\n",
       "TumorVolume  Weight         0.5257\n",
       "Weight       Weight         1.0000\n",
       "TumorVolume  TumorVolume    1.0000\n",
       "dtype: float64"
      ]
     },
     "execution_count": 69,
     "metadata": {},
     "output_type": "execute_result"
    }
   ],
   "source": [
    "mouse_corr = mouse_weight_capomulin_df4.corr()\n",
    "mouse_corr.unstack().sort_values()"
   ]
  },
  {
   "cell_type": "code",
   "execution_count": 70,
   "metadata": {},
   "outputs": [
    {
     "data": {
      "image/png": "[encoded data removed]",
      "text/plain": [
       "<Figure size 432x288 with 1 Axes>"
      ]
     },
     "metadata": {
      "needs_background": "light"
     },
     "output_type": "display_data"
    }
   ],
   "source": [
    "# README - lot the linear regression model \n",
    "    # on top of the previous scatter plot.\n",
    "# create numpy array from df\n",
    "weight7 = mean_grouped_df5['Weight (g)'].to_numpy()\n",
    "ave_tum_vol = mean_grouped_df5['Tumor Volume (mm3)'].to_numpy()\n",
    "\n",
    "plt.plot(weight7, ave_tum_vol, 'o')\n",
    "\n",
    "m, b = np.polyfit(weight7, ave_tum_vol, 1)\n",
    "plt.plot(weight7, m*weight7 + b)\n",
    "plt.grid()\n",
    "plt.xlim(15, 25)\n",
    "plt.ylim(36, 46)\n",
    "plt.title(\"Mouse Weight vs. Average Tumor Volume\")\n",
    "plt.xlabel(\"Weight (g)\")\n",
    "plt.ylabel(\"Average Tumor Volume (mm3)\")\n",
    "plt.show()"
   ]
  }
 ],
 "metadata": {
  "anaconda-cloud": {},
  "kernelspec": {
   "display_name": "Python [conda env:PythonData] *",
   "language": "python",
   "name": "conda-env-PythonData-py"
  },
  "language_info": {
   "codemirror_mode": {
    "name": "ipython",
    "version": 3
   },
   "file_extension": ".py",
   "mimetype": "text/x-python",
   "name": "python",
   "nbconvert_exporter": "python",
   "pygments_lexer": "ipython3",
   "version": "3.8.3"
  }
 },
 "nbformat": 4,
 "nbformat_minor": 2
}
