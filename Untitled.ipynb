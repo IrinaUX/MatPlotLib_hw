{
 "cells": [
  {
   "cell_type": "code",
   "execution_count": 1,
   "metadata": {},
   "outputs": [],
   "source": [
    "import numpy as np\n",
    "import matplotlib.pyplot as plt\n",
    "\n",
    "# Fixing random state for reproducibility\n",
    "np.random.seed(19680801)\n",
    "\n",
    "# fake up some data\n",
    "spread = np.random.rand(50) * 100\n",
    "center = np.ones(25) * 50\n",
    "flier_high = np.random.rand(10) * 100 + 100\n",
    "flier_low = np.random.rand(10) * -100\n",
    "data = np.concatenate((spread, center, flier_high, flier_low))"
   ]
  },
  {
   "cell_type": "code",
   "execution_count": 13,
   "metadata": {},
   "outputs": [
    {
     "name": "stdout",
     "output_type": "stream",
     "text": [
      "[83.78376368 11.8615617  79.72347418 94.90042675 14.80628764 90.68719849\n",
      " 78.83733255 76.84058413 59.8496483  44.21456175 72.30380198 41.66182494\n",
      " 22.68103954 45.42273409 84.79437532 93.6655949  95.60361846 39.20943157\n",
      " 70.8324671  12.95158346 35.37963854 40.42715193 64.85338993  3.30709704\n",
      " 53.80093632 13.17131185 52.09349339 10.24847852 15.79803754 92.0029646\n",
      " 78.42297751 39.70475376 15.46468315 72.11932479 83.68309041 93.78552019\n",
      " 57.67138189 19.50265601 11.77939697 95.06002043 28.36723023 95.65624228\n",
      " 90.94254614 32.84251875 95.17655686 11.63214758 87.43141503 98.52254676\n",
      " 75.03353804 98.51564662]\n"
     ]
    }
   ],
   "source": [
    "data_test1 = spread\n",
    "print(data_test1)"
   ]
  },
  {
   "cell_type": "code",
   "execution_count": 14,
   "metadata": {},
   "outputs": [
    {
     "name": "stdout",
     "output_type": "stream",
     "text": [
      "[40. 40. 40. 40. 40. 40. 40. 40. 40. 40. 40. 40. 40. 40. 40. 40. 40. 40.\n",
      " 40. 40. 40. 40. 40. 40. 40.]\n"
     ]
    }
   ],
   "source": [
    "data_test2 = center\n",
    "print(data_test2)"
   ]
  },
  {
   "cell_type": "code",
   "execution_count": 2,
   "metadata": {},
   "outputs": [
    {
     "data": {
      "text/plain": [
       "{'whiskers': [<matplotlib.lines.Line2D at 0x7f84034285b0>,\n",
       "  <matplotlib.lines.Line2D at 0x7f8403428910>],\n",
       " 'caps': [<matplotlib.lines.Line2D at 0x7f8403428c70>,\n",
       "  <matplotlib.lines.Line2D at 0x7f8403428fd0>],\n",
       " 'boxes': [<matplotlib.lines.Line2D at 0x7f8403428250>],\n",
       " 'medians': [<matplotlib.lines.Line2D at 0x7f8403435370>],\n",
       " 'fliers': [<matplotlib.lines.Line2D at 0x7f8403435670>],\n",
       " 'means': []}"
      ]
     },
     "execution_count": 2,
     "metadata": {},
     "output_type": "execute_result"
    },
    {
     "data": {
      "image/png": "[encoded data removed]",
      "text/plain": [
       "<Figure size 432x288 with 1 Axes>"
      ]
     },
     "metadata": {
      "needs_background": "light"
     },
     "output_type": "display_data"
    }
   ],
   "source": [
    "fig1, ax1 = plt.subplots()\n",
    "ax1.set_title('Basic Plot')\n",
    "ax1.boxplot(data)"
   ]
  },
  {
   "cell_type": "code",
   "execution_count": 3,
   "metadata": {},
   "outputs": [
    {
     "data": {
      "text/plain": [
       "{'whiskers': [<matplotlib.lines.Line2D at 0x7f840349df40>,\n",
       "  <matplotlib.lines.Line2D at 0x7f840366c2e0>],\n",
       " 'caps': [<matplotlib.lines.Line2D at 0x7f840366c640>,\n",
       "  <matplotlib.lines.Line2D at 0x7f840366c9a0>],\n",
       " 'boxes': [<matplotlib.lines.Line2D at 0x7f840349dbe0>],\n",
       " 'medians': [<matplotlib.lines.Line2D at 0x7f840366cd00>],\n",
       " 'fliers': [<matplotlib.lines.Line2D at 0x7f8403678040>],\n",
       " 'means': []}"
      ]
     },
     "execution_count": 3,
     "metadata": {},
     "output_type": "execute_result"
    },
    {
     "data": {
      "image/png": "[encoded data removed]",
      "text/plain": [
       "<Figure size 432x288 with 1 Axes>"
      ]
     },
     "metadata": {
      "needs_background": "light"
     },
     "output_type": "display_data"
    }
   ],
   "source": [
    "fig2, ax2 = plt.subplots()\n",
    "ax2.set_title('Notched boxes')\n",
    "ax2.boxplot(data, notch=True)"
   ]
  },
  {
   "cell_type": "code",
   "execution_count": 4,
   "metadata": {},
   "outputs": [
    {
     "data": {
      "text/plain": [
       "{'whiskers': [<matplotlib.lines.Line2D at 0x7f84037321c0>,\n",
       "  <matplotlib.lines.Line2D at 0x7f8403732520>],\n",
       " 'caps': [<matplotlib.lines.Line2D at 0x7f8403732880>,\n",
       "  <matplotlib.lines.Line2D at 0x7f8403732be0>],\n",
       " 'boxes': [<matplotlib.lines.Line2D at 0x7f8403723e20>],\n",
       " 'medians': [<matplotlib.lines.Line2D at 0x7f8403732f40>],\n",
       " 'fliers': [<matplotlib.lines.Line2D at 0x7f840373a280>],\n",
       " 'means': []}"
      ]
     },
     "execution_count": 4,
     "metadata": {},
     "output_type": "execute_result"
    },
    {
     "data": {
      "image/png": "[encoded data removed]",
      "text/plain": [
       "<Figure size 432x288 with 1 Axes>"
      ]
     },
     "metadata": {
      "needs_background": "light"
     },
     "output_type": "display_data"
    }
   ],
   "source": [
    "green_diamond = dict(markerfacecolor='g', marker='D')\n",
    "fig3, ax3 = plt.subplots()\n",
    "ax3.set_title('Changed Outlier Symbols')\n",
    "ax3.boxplot(data, flierprops=green_diamond)"
   ]
  },
  {
   "cell_type": "code",
   "execution_count": 5,
   "metadata": {},
   "outputs": [
    {
     "data": {
      "text/plain": [
       "{'whiskers': [<matplotlib.lines.Line2D at 0x7f8403785d90>,\n",
       "  <matplotlib.lines.Line2D at 0x7f8403804130>],\n",
       " 'caps': [<matplotlib.lines.Line2D at 0x7f8403804490>,\n",
       "  <matplotlib.lines.Line2D at 0x7f84038047f0>],\n",
       " 'boxes': [<matplotlib.lines.Line2D at 0x7f8403785a30>],\n",
       " 'medians': [<matplotlib.lines.Line2D at 0x7f8403804b50>],\n",
       " 'fliers': [],\n",
       " 'means': []}"
      ]
     },
     "execution_count": 5,
     "metadata": {},
     "output_type": "execute_result"
    },
    {
     "data": {
      "image/png": "[encoded data removed]",
      "text/plain": [
       "<Figure size 432x288 with 1 Axes>"
      ]
     },
     "metadata": {
      "needs_background": "light"
     },
     "output_type": "display_data"
    }
   ],
   "source": [
    "fig4, ax4 = plt.subplots()\n",
    "ax4.set_title('Hide Outlier Points')\n",
    "ax4.boxplot(data, showfliers=False)"
   ]
  },
  {
   "cell_type": "code",
   "execution_count": 6,
   "metadata": {},
   "outputs": [
    {
     "data": {
      "text/plain": [
       "{'whiskers': [<matplotlib.lines.Line2D at 0x7f84038ca5e0>,\n",
       "  <matplotlib.lines.Line2D at 0x7f84038ca940>],\n",
       " 'caps': [<matplotlib.lines.Line2D at 0x7f84038caca0>,\n",
       "  <matplotlib.lines.Line2D at 0x7f84038d4040>],\n",
       " 'boxes': [<matplotlib.lines.Line2D at 0x7f84038ca280>],\n",
       " 'medians': [<matplotlib.lines.Line2D at 0x7f84038d43a0>],\n",
       " 'fliers': [<matplotlib.lines.Line2D at 0x7f84038d46a0>],\n",
       " 'means': []}"
      ]
     },
     "execution_count": 6,
     "metadata": {},
     "output_type": "execute_result"
    },
    {
     "data": {
      "image/png": "[encoded data removed]",
      "text/plain": [
       "<Figure size 432x288 with 1 Axes>"
      ]
     },
     "metadata": {
      "needs_background": "light"
     },
     "output_type": "display_data"
    }
   ],
   "source": [
    "red_square = dict(markerfacecolor='r', marker='s')\n",
    "fig5, ax5 = plt.subplots()\n",
    "ax5.set_title('Horizontal Boxes')\n",
    "ax5.boxplot(data, vert=False, flierprops=red_square)"
   ]
  },
  {
   "cell_type": "code",
   "execution_count": 7,
   "metadata": {},
   "outputs": [
    {
     "data": {
      "text/plain": [
       "{'whiskers': [<matplotlib.lines.Line2D at 0x7f8403a30ee0>,\n",
       "  <matplotlib.lines.Line2D at 0x7f8403a3e280>],\n",
       " 'caps': [<matplotlib.lines.Line2D at 0x7f8403a3e5e0>,\n",
       "  <matplotlib.lines.Line2D at 0x7f8403a3e940>],\n",
       " 'boxes': [<matplotlib.lines.Line2D at 0x7f8403a30b80>],\n",
       " 'medians': [<matplotlib.lines.Line2D at 0x7f8403a3eca0>],\n",
       " 'fliers': [<matplotlib.lines.Line2D at 0x7f8403a3efa0>],\n",
       " 'means': []}"
      ]
     },
     "execution_count": 7,
     "metadata": {},
     "output_type": "execute_result"
    },
    {
     "data": {
      "image/png": "[encoded data removed]",
      "text/plain": [
       "<Figure size 432x288 with 1 Axes>"
      ]
     },
     "metadata": {
      "needs_background": "light"
     },
     "output_type": "display_data"
    }
   ],
   "source": [
    "fig6, ax6 = plt.subplots()\n",
    "ax6.set_title('Shorter Whisker Length')\n",
    "ax6.boxplot(data, flierprops=red_square, vert=False, whis=0.75)"
   ]
  },
  {
   "cell_type": "code",
   "execution_count": 8,
   "metadata": {},
   "outputs": [],
   "source": [
    "spread = np.random.rand(50) * 100\n",
    "center = np.ones(25) * 40\n",
    "flier_high = np.random.rand(10) * 100 + 100\n",
    "flier_low = np.random.rand(10) * -100\n",
    "d2 = np.concatenate((spread, center, flier_high, flier_low))\n",
    "data.shape = (-1, 1)\n",
    "d2.shape = (-1, 1)"
   ]
  },
  {
   "cell_type": "code",
   "execution_count": 9,
   "metadata": {},
   "outputs": [
    {
     "data": {
      "image/png": "[encoded data removed]",
      "text/plain": [
       "<Figure size 432x288 with 1 Axes>"
      ]
     },
     "metadata": {
      "needs_background": "light"
     },
     "output_type": "display_data"
    }
   ],
   "source": [
    "data = [data, d2, d2[::2, 0]]\n",
    "fig7, ax7 = plt.subplots()\n",
    "ax7.set_title('Multiple Samples with Different sizes')\n",
    "ax7.boxplot(data)\n",
    "\n",
    "plt.show()"
   ]
  },
  {
   "cell_type": "code",
   "execution_count": null,
   "metadata": {},
   "outputs": [],
   "source": []
  }
 ],
 "metadata": {
  "kernelspec": {
   "display_name": "Python [conda env:PythonData] *",
   "language": "python",
   "name": "conda-env-PythonData-py"
  },
  "language_info": {
   "codemirror_mode": {
    "name": "ipython",
    "version": 3
   },
   "file_extension": ".py",
   "mimetype": "text/x-python",
   "name": "python",
   "nbconvert_exporter": "python",
   "pygments_lexer": "ipython3",
   "version": "3.8.3"
  }
 },
 "nbformat": 4,
 "nbformat_minor": 4
}
